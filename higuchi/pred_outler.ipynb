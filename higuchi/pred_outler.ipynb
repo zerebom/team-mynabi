{
 "cells": [
  {
   "cell_type": "code",
   "execution_count": 2,
   "metadata": {},
   "outputs": [],
   "source": [
    "import numpy as np\n",
    "import pandas as pd\n",
    "import scipy as sp\n",
    "from scipy import stats\n",
    "from scipy.stats import norm, skew\n",
    "import matplotlib.pyplot as plt\n",
    "import seaborn as sns\n",
    "sns.set()\n",
    "import matplotlib\n",
    "\n",
    "pd.set_option('max_columns',1000)\n",
    "pd.set_option('max_rows',1000)\n",
    "\n",
    "import warnings\n",
    "warnings.filterwarnings('ignore')\n",
    "\n",
    "import re\n",
    "import geocoder\n",
    "from geopy.distance import great_circle, vincenty\n",
    "from tqdm import tqdm\n",
    "from sklearn.metrics import r2_score\n",
    "from sklearn.metrics import mean_squared_error\n",
    "import os\n",
    "import gc\n",
    "import lightgbm as lgb\n",
    "from sklearn.model_selection import KFold, train_test_split\n",
    "from time import time\n",
    "import datetime\n",
    "from script import RegressionPredictor,LogRegressionPredictor\n",
    "import japanize_matplotlib\n",
    "# print(os.listdir(\"././input\"))\n",
    "# print(os.listdir(\"././submit\"))\n",
    "from utils import save_data\n",
    "SEED=1234\n",
    "n_splits=10"
   ]
  },
  {
   "cell_type": "code",
   "execution_count": 3,
   "metadata": {},
   "outputs": [],
   "source": [
    "train=pd.read_csv('./input/prep_train1102.csv')\n",
    "test=pd.read_csv('./input/prep_test1102.csv')\n",
    "y_train = train['賃料']"
   ]
  },
  {
   "cell_type": "code",
   "execution_count": 5,
   "metadata": {},
   "outputs": [],
   "source": [
    "folder=KFold(n_splits=10, shuffle=True, random_state=45)"
   ]
  },
  {
   "cell_type": "code",
   "execution_count": 6,
   "metadata": {},
   "outputs": [],
   "source": [
    "drop_col = ['id']\n",
    "\n",
    "## 必要な特徴量に絞る\n",
    "y_train = train['賃料']\n",
    "y_train_log = np.log1p(y_train)\n",
    "X_train = train.drop(drop_col,axis=1)\n",
    "X_test = test.drop(drop_col,axis=1)"
   ]
  },
  {
   "cell_type": "code",
   "execution_count": 7,
   "metadata": {},
   "outputs": [],
   "source": [
    "X_train['地価']=X_train['賃料']/X_train['面積']"
   ]
  },
  {
   "cell_type": "code",
   "execution_count": 8,
   "metadata": {},
   "outputs": [],
   "source": [
    "def feature_encoding(train, test, category_col, target_col, func_list):\n",
    "    '''target_encodingを重要な列（面積など）でやる。TEと違って、test_dfに含まれる値も集計して作る'''\n",
    "    data=pd.concat([train,test],axis=0).reset_index()\n",
    "    \n",
    "    agg_func = {target_col: func_list}\n",
    "    #agg_funcでgruopby\n",
    "    agg_df = data.groupby(category_col)[target_col].agg(agg_func)\n",
    "    #列名作成\n",
    "    agg_df.columns = [category_col + '_' + '_'.join(col).strip() for col in agg_df.columns.values]\n",
    "    #元の列に集約結果をmapしその値をコピーし新規列に加え返す。\n",
    "    for col in agg_df.columns.values:\n",
    "        train[col] = train[category_col].map(agg_df[col]).copy()\n",
    "        test[col] = test[category_col].map(agg_df[col]).copy()\n",
    "    return train, test"
   ]
  },
  {
   "cell_type": "code",
   "execution_count": 9,
   "metadata": {},
   "outputs": [],
   "source": [
    "def target_encoding(train, test, category_col, target_col, func_list):\n",
    "    \n",
    "    agg_func = {target_col: func_list}\n",
    "    #agg_funcでgruopby\n",
    "    agg_df = train.groupby(category_col)[target_col].agg(agg_func)\n",
    "    #列名作成\n",
    "    agg_df.columns = [category_col + '_' + '_'.join(col).strip() for col in agg_df.columns.values]\n",
    "    #元の列に集約結果をmapしその値をコピーし新規列に加え返す。\n",
    "    for col in agg_df.columns.values:\n",
    "        train[col] = train[category_col].map(agg_df[col]).copy()\n",
    "        test[col] = test[category_col].map(agg_df[col]).copy()\n",
    "    return train, test\n",
    "\n",
    "\n",
    "category_col='km_type'\n",
    "\n",
    "target_dict = {category_col: ['mean']}\n",
    "target_col = '地価'\n",
    "for category_col, func_list in target_dict.items():\n",
    "    X_train, X_test = feature_encoding(X_train, X_test, category_col, target_col, func_list)\n",
    "\n",
    "X_train['地価x面積'] = X_train['面積'] * X_train[f'{category_col}_地価_mean']\n",
    "X_test['地価x面積'] = X_test['面積'] * X_test[f'{category_col}_地価_mean']"
   ]
  },
  {
   "cell_type": "code",
   "execution_count": 10,
   "metadata": {},
   "outputs": [],
   "source": [
    "\n",
    "X_train['地価'] = X_train['賃料'] / X_train['面積']\n",
    "target_dict = {category_col: ['mean']}\n",
    "target_col = '面積'\n",
    "for category_col, func_list in target_dict.items():\n",
    "    X_train, X_test = feature_encoding(X_train, X_test, category_col, target_col, func_list)\n",
    "\n",
    "X_train['area_diff'] = X_train['面積'] - X_train[f'{category_col}_面積_mean']\n",
    "X_train['area_ratio'] = X_train['面積'] / X_train[f'{category_col}_面積_mean']\n",
    "X_test['area_diff'] = X_test['面積'] - X_test[f'{category_col}_面積_mean']\n",
    "X_test['area_ratio'] = X_test['面積'] / X_test[f'{category_col}_面積_mean']\n",
    "\n",
    "target_dict = {category_col: ['mean']}\n",
    "target_col = '築年数'\n",
    "for category_col, func_list in target_dict.items():\n",
    "    X_train, X_test = feature_encoding(X_train, X_test, category_col, target_col, func_list)\n",
    "\n",
    "X_train['age_diff'] = X_train['築年数'] - X_train[f'{category_col}_築年数_mean']\n",
    "X_train['age_ratio'] = X_train['築年数'] / X_train[f'{category_col}_築年数_mean']\n",
    "X_test['age_diff'] = X_test['築年数'] - X_test[f'{category_col}_築年数_mean']\n",
    "X_test['age_ratio'] = X_test['築年数'] / X_test[f'{category_col}_築年数_mean']\n",
    "X_train['area/ageratio'] = X_train['area_ratio'] / X_train['age_ratio']\n",
    "X_test['area/ageratio'] = X_test['area_ratio'] / X_test['age_ratio']\n",
    "\n",
    "X_train['地価x面積'] = X_train['面積'] * X_train[f'{category_col}_地価_mean']\n",
    "X_test['地価x面積'] = X_test['面積'] * X_test[f'{category_col}_地価_mean']\n",
    "X_train['地価x面積/築年数ratio'] = X_train['地価x面積'] / X_train['age_ratio']\n",
    "X_test['地価x面積/築年数ratio'] = X_test['地価x面積'] / X_test['age_ratio']\n"
   ]
  },
  {
   "cell_type": "code",
   "execution_count": 27,
   "metadata": {},
   "outputs": [],
   "source": [
    "X_train['outlier']=0\n",
    "X_train.loc[X_train.query('賃料>200000')['賃料'].index,'outlier']=1"
   ]
  },
  {
   "cell_type": "code",
   "execution_count": 33,
   "metadata": {},
   "outputs": [],
   "source": [
    "y_train=X_train['outlier']"
   ]
  },
  {
   "cell_type": "code",
   "execution_count": 54,
   "metadata": {},
   "outputs": [],
   "source": [
    "lgbm_params = {\n",
    "    'num_iterations': 50000,\n",
    "    'learning_rate': 0.01,\n",
    "    'boosting_type': 'gbdt',\n",
    "    'objective': 'regression',\n",
    "    'metric': 'rmse',\n",
    "    'reg_lambda': 68.19849585036235,\n",
    "    'reg_alpha': 0.007585940082730346,\n",
    "    'colsample_bytree': 0.6,\n",
    "    'subsample': 0.5,\n",
    "    'max_depth': 8,\n",
    "    'min_child_weight': 8,\n",
    "    'lambda': 1,\n",
    "    'eta': 0.1,\n",
    "    'verbose': 1,\n",
    "    'random_state': 0,\n",
    "    'early_stopping_round': 50\n",
    "    }\n",
    "\n",
    "lgbm_log_params=lgbm_params.copy()\n",
    "lgbm_log_params['metric']='mae'\n",
    "lgbm_log_params['learning_rate']=0.05\n",
    "\n",
    "lgbm_x_params=lgbm_params.copy()\n",
    "lgbm_x_params['metric']='binary'\n",
    "lgbm_x_params['learning_rate']=0.05"
   ]
  },
  {
   "cell_type": "code",
   "execution_count": 55,
   "metadata": {},
   "outputs": [],
   "source": [
    "features =  ['面積','築年数','sta_min','center_dis','L','loc_lat','loc_lon','総階数','畳','所在階','km_type_地価_mean', '地価x面積', 'area_diff',\n",
    "       'area_ratio', 'age_diff', 'age_ratio',\n",
    "       'area/ageratio', '地価x面積/築年数ratio']\n",
    "X_train = X_train[features]\n",
    "X_test = X_test[features]"
   ]
  },
  {
   "cell_type": "code",
   "execution_count": 56,
   "metadata": {},
   "outputs": [
    {
     "name": "stdout",
     "output_type": "stream",
     "text": [
      "Training on fold 1\n",
      "Training until validation scores don't improve for 50 rounds.\n",
      "Early stopping, best iteration is:\n",
      "[442]\ttraining's binary_logloss: 0.0181458\tvalid_1's binary_logloss: 0.0333403\n",
      "Training on fold 2\n",
      "Training until validation scores don't improve for 50 rounds.\n",
      "Early stopping, best iteration is:\n",
      "[148]\ttraining's binary_logloss: 0.0290643\tvalid_1's binary_logloss: 0.0442326\n",
      "Training on fold 3\n",
      "Training until validation scores don't improve for 50 rounds.\n",
      "Early stopping, best iteration is:\n",
      "[93]\ttraining's binary_logloss: 0.0351203\tvalid_1's binary_logloss: 0.0472092\n",
      "Training on fold 4\n",
      "Training until validation scores don't improve for 50 rounds.\n",
      "Early stopping, best iteration is:\n",
      "[106]\ttraining's binary_logloss: 0.0322706\tvalid_1's binary_logloss: 0.0510848\n",
      "Training on fold 5\n",
      "Training until validation scores don't improve for 50 rounds.\n",
      "Early stopping, best iteration is:\n",
      "[869]\ttraining's binary_logloss: 0.0117069\tvalid_1's binary_logloss: 0.0322737\n",
      "Training on fold 6\n",
      "Training until validation scores don't improve for 50 rounds.\n",
      "Early stopping, best iteration is:\n",
      "[992]\ttraining's binary_logloss: 0.0104485\tvalid_1's binary_logloss: 0.028622\n",
      "Training on fold 7\n",
      "Training until validation scores don't improve for 50 rounds.\n",
      "Early stopping, best iteration is:\n",
      "[2366]\ttraining's binary_logloss: 0.00423056\tvalid_1's binary_logloss: 0.0281588\n",
      "Training on fold 8\n",
      "Training until validation scores don't improve for 50 rounds.\n",
      "Early stopping, best iteration is:\n",
      "[75]\ttraining's binary_logloss: 0.0391624\tvalid_1's binary_logloss: 0.0539106\n",
      "Training on fold 9\n",
      "Training until validation scores don't improve for 50 rounds.\n",
      "Early stopping, best iteration is:\n",
      "[1347]\ttraining's binary_logloss: 0.00805663\tvalid_1's binary_logloss: 0.0271034\n",
      "Training on fold 10\n",
      "Training until validation scores don't improve for 50 rounds.\n",
      "Early stopping, best iteration is:\n",
      "[110]\ttraining's binary_logloss: 0.0327622\tvalid_1's binary_logloss: 0.0440922\n",
      "------------------------------\n",
      "Training has finished.\n",
      "Total training time is 0:00:07.882563\n",
      "------------------------------\n",
      "this self.model`s rmse: 0\n"
     ]
    },
    {
     "data": {
      "image/png": "[encoded data removed]",
      "text/plain": [
       "<Figure size 720x1440 with 1 Axes>"
      ]
     },
     "metadata": {
      "needs_background": "light"
     },
     "output_type": "display_data"
    },
    {
     "data": {
      "image/png": "[encoded data removed]",
      "text/plain": [
       "<Figure size 1296x576 with 2 Axes>"
      ]
     },
     "metadata": {
      "needs_background": "light"
     },
     "output_type": "display_data"
    },
    {
     "name": "stdout",
     "output_type": "stream",
     "text": [
      "RMSE :  0.10651833875320671\n",
      "R^2 :  0.8250558616132341\n"
     ]
    },
    {
     "data": {
      "image/png": "[encoded data removed]",
      "text/plain": [
       "<Figure size 432x288 with 1 Axes>"
      ]
     },
     "metadata": {
      "needs_background": "light"
     },
     "output_type": "display_data"
    }
   ],
   "source": [
    "XLGBM = RegressionPredictor(X_train, y_train, X_test, Folder=folder, params=lgbm_x_params,\n",
    "                                      sk_model=None, n_splits=10, clf_type='lgb')\n",
    "xlgboof, xlgbpreds, xlgbFIs = XLGBM.fit()\n",
    "XLGBM.plot_FI(50)\n",
    "XLGBM.plot_pred_dist()\n",
    "XLGBM.plot_scatter_oofvspred()"
   ]
  },
  {
   "cell_type": "code",
   "execution_count": 57,
   "metadata": {},
   "outputs": [
    {
     "data": {
      "text/plain": [
       "array([5.68048076e-03, 8.11193582e-03, 4.69285648e-04, ...,\n",
       "       2.06526441e-02, 9.67985257e-01, 3.78351058e-04])"
      ]
     },
     "execution_count": 57,
     "metadata": {},
     "output_type": "execute_result"
    }
   ],
   "source": [
    "xlgbpreds"
   ]
  },
  {
   "cell_type": "code",
   "execution_count": 47,
   "metadata": {},
   "outputs": [],
   "source": [
    "def save_data(train,oof,preds,rmse=20000,name='lgb',submit_dir='./submit',save_dir='./submit'):\n",
    "    '''stacking用にtrain,testの予測値を同じ形で保存する\n",
    "    from pathlib import Path　がいる\n",
    "    predict.csvの情報を記載したcsvも作成する\n",
    "    '''\n",
    "    submit_dir=Path(submit_dir)\n",
    "    save_dir=Path(save_dir)\n",
    "    submit_path=submit_dir/'sample_submit.csv'\n",
    "    train_id_path=submit_dir/'train_id.csv'\n",
    "    pred_path=save_dir/f'submit_{rmse}_{name}.csv'\n",
    "    oof_path=save_dir/f'oof_{rmse}_{name}.csv'\n",
    "    train_log_path=save_dir/f'pred_log.csv'\n",
    "    \n",
    "    submit = pd.read_csv(submit_path,header=None).rename(columns={0:'id',1:'target'})\n",
    "    train_oof=pd.read_csv(train_id_path,header=None).rename(columns={0:'id',1:'target'})\n",
    "    submit['target'] = preds\n",
    "    train_oof['target']=oof\n",
    "    submit.to_csv(pred_path, index=None, header=None)\n",
    "    train_oof.to_csv(oof_path, index=None, header=None)\n",
    "    \n",
    "    if train_log_path.is_file():\n",
    "        train_log_df=pd.read_csv(train_log_path)\n",
    "    else:\n",
    "        train_log_df=pd.DataFrame(columns=['path','features','rmse','time'])\n",
    "    s=pd.Series([pred_path,','.join(train.columns),rmse,str(datetime.date.today())],index=['path','features','rmse','time'],name=train_log_df.shape[0])\n",
    "    train_log_df=train_log_df.append(s)\n",
    "    train_log_df.to_csv(train_log_path,index=None)\n",
    "    \n",
    "    display(submit.head())\n",
    "    display(train_oof.head())"
   ]
  },
  {
   "cell_type": "code",
   "execution_count": 58,
   "metadata": {},
   "outputs": [
    {
     "data": {
      "text/html": [
       "<div>\n",
       "<style scoped>\n",
       "    .dataframe tbody tr th:only-of-type {\n",
       "        vertical-align: middle;\n",
       "    }\n",
       "\n",
       "    .dataframe tbody tr th {\n",
       "        vertical-align: top;\n",
       "    }\n",
       "\n",
       "    .dataframe thead th {\n",
       "        text-align: right;\n",
       "    }\n",
       "</style>\n",
       "<table border=\"1\" class=\"dataframe\">\n",
       "  <thead>\n",
       "    <tr style=\"text-align: right;\">\n",
       "      <th></th>\n",
       "      <th>id</th>\n",
       "      <th>target</th>\n",
       "    </tr>\n",
       "  </thead>\n",
       "  <tbody>\n",
       "    <tr>\n",
       "      <td>0</td>\n",
       "      <td>31471</td>\n",
       "      <td>0.005680</td>\n",
       "    </tr>\n",
       "    <tr>\n",
       "      <td>1</td>\n",
       "      <td>31472</td>\n",
       "      <td>0.008112</td>\n",
       "    </tr>\n",
       "    <tr>\n",
       "      <td>2</td>\n",
       "      <td>31473</td>\n",
       "      <td>0.000469</td>\n",
       "    </tr>\n",
       "    <tr>\n",
       "      <td>3</td>\n",
       "      <td>31474</td>\n",
       "      <td>0.000085</td>\n",
       "    </tr>\n",
       "    <tr>\n",
       "      <td>4</td>\n",
       "      <td>31475</td>\n",
       "      <td>-0.003395</td>\n",
       "    </tr>\n",
       "  </tbody>\n",
       "</table>\n",
       "</div>"
      ],
      "text/plain": [
       "      id    target\n",
       "0  31471  0.005680\n",
       "1  31472  0.008112\n",
       "2  31473  0.000469\n",
       "3  31474  0.000085\n",
       "4  31475 -0.003395"
      ]
     },
     "metadata": {},
     "output_type": "display_data"
    },
    {
     "data": {
      "text/html": [
       "<div>\n",
       "<style scoped>\n",
       "    .dataframe tbody tr th:only-of-type {\n",
       "        vertical-align: middle;\n",
       "    }\n",
       "\n",
       "    .dataframe tbody tr th {\n",
       "        vertical-align: top;\n",
       "    }\n",
       "\n",
       "    .dataframe thead th {\n",
       "        text-align: right;\n",
       "    }\n",
       "</style>\n",
       "<table border=\"1\" class=\"dataframe\">\n",
       "  <thead>\n",
       "    <tr style=\"text-align: right;\">\n",
       "      <th></th>\n",
       "      <th>id</th>\n",
       "      <th>target</th>\n",
       "    </tr>\n",
       "  </thead>\n",
       "  <tbody>\n",
       "    <tr>\n",
       "      <td>0</td>\n",
       "      <td>1</td>\n",
       "      <td>-0.000832</td>\n",
       "    </tr>\n",
       "    <tr>\n",
       "      <td>1</td>\n",
       "      <td>2</td>\n",
       "      <td>-0.002288</td>\n",
       "    </tr>\n",
       "    <tr>\n",
       "      <td>2</td>\n",
       "      <td>3</td>\n",
       "      <td>-0.001001</td>\n",
       "    </tr>\n",
       "    <tr>\n",
       "      <td>3</td>\n",
       "      <td>4</td>\n",
       "      <td>0.122840</td>\n",
       "    </tr>\n",
       "    <tr>\n",
       "      <td>4</td>\n",
       "      <td>5</td>\n",
       "      <td>0.002335</td>\n",
       "    </tr>\n",
       "  </tbody>\n",
       "</table>\n",
       "</div>"
      ],
      "text/plain": [
       "   id    target\n",
       "0   1 -0.000832\n",
       "1   2 -0.002288\n",
       "2   3 -0.001001\n",
       "3   4  0.122840\n",
       "4   5  0.002335"
      ]
     },
     "metadata": {},
     "output_type": "display_data"
    }
   ],
   "source": [
    "save_data(X_train,xlgboof, xlgbpreds,rmse=XLGBM.rmse(),name='binoutlier',save_dir='./stacking')"
   ]
  },
  {
   "cell_type": "code",
   "execution_count": 49,
   "metadata": {},
   "outputs": [],
   "source": [
    "import pandas as pd\n",
    "from pathlib import Path\n",
    "import datetime"
   ]
  },
  {
   "cell_type": "code",
   "execution_count": null,
   "metadata": {},
   "outputs": [],
   "source": []
  }
 ],
 "metadata": {
  "kernelspec": {
   "display_name": "Python 3",
   "language": "python",
   "name": "python3"
  },
  "language_info": {
   "codemirror_mode": {
    "name": "ipython",
    "version": 3
   },
   "file_extension": ".py",
   "mimetype": "text/x-python",
   "name": "python",
   "nbconvert_exporter": "python",
   "pygments_lexer": "ipython3",
   "version": "3.6.8"
  }
 },
 "nbformat": 4,
 "nbformat_minor": 4
}
