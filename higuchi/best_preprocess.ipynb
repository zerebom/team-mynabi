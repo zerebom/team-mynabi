{
 "cells": [
  {
   "cell_type": "markdown",
   "metadata": {},
   "source": [
    "## 賃料についてのドメイン知識\n",
    "#### たいがのコードをちょい改変\n",
    "- 線路を出現頻度30までは残す\n",
    "- 最寄り駅以外も残す\n",
    "- 駅によるかさ増し（行方向へ展開はしない）は行わない\n",
    "- 駅の正規表現などを少し追加\n",
    "\n"
   ]
  },
  {
   "cell_type": "markdown",
   "metadata": {},
   "source": [
    "- https://lobotomy-project.org/marketpricerent/\n",
    "- https://ameblo.jp/enjoytokyolovelivelife/entry-11084920720.html\n"
   ]
  },
  {
   "cell_type": "code",
   "execution_count": 2,
   "metadata": {},
   "outputs": [],
   "source": [
    "import numpy as np\n",
    "import pandas as pd\n",
    "import scipy as sp\n",
    "from scipy import stats\n",
    "from scipy.stats import norm, skew\n",
    "import matplotlib.pyplot as plt\n",
    "import seaborn as sns\n",
    "sns.set()\n",
    "import matplotlib\n",
    "font = {'family': 'Yu Mincho'}\n",
    "matplotlib.rc('font', **font)\n",
    "\n",
    "pd.set_option('max_columns',1000)\n",
    "pd.set_option('max_rows',1000)\n",
    "\n",
    "import warnings\n",
    "warnings.filterwarnings('ignore')\n",
    "\n",
    "import re\n",
    "import geocoder\n",
    "from geopy.distance import great_circle, vincenty\n",
    "from tqdm import tqdm\n",
    "import jaconv\n",
    "import os\n",
    "import gc\n",
    "# print(os.listdir(\"././input\"))\n",
    "# print(os.listdir(\"././submit\"))\n",
    "\n",
    "SEED=1234\n",
    "n_splits=10"
   ]
  },
  {
   "cell_type": "markdown",
   "metadata": {},
   "source": [
    "### 所在地"
   ]
  },
  {
   "cell_type": "code",
   "execution_count": 3,
   "metadata": {},
   "outputs": [],
   "source": [
    "def get_location_lonlat(df):\n",
    "    '''\n",
    "    緯度経度取得関数\n",
    "    '''\n",
    "    loc = pd.read_table('./input/location.txt',delimiter=',')\n",
    "    loc = loc.rename(columns={'location':'所在地'})\n",
    "    \n",
    "    ## -の正規化\n",
    "    df['所在地'] = df['所在地'].apply(lambda x: x.replace('−','－')).apply(lambda x: jaconv.z2h(x,digit=True,ascii=True).replace('(','').replace(')',''))\n",
    "    loc['所在地'] = loc['所在地'].apply(lambda x: x.replace('−','－')).apply(lambda x: jaconv.z2h(x,digit=True,ascii=True).replace('(','').replace(')',''))\n",
    "    \n",
    "    ## lon, lat取得\n",
    "    lat_map = loc.groupby('所在地')[' lat'].max()\n",
    "    lon_map = loc.groupby('所在地')[' lon'].max()\n",
    "    df['loc_lat'] = df['所在地'].map(lat_map)\n",
    "    df['loc_lon'] = df['所在地'].map(lon_map)\n",
    "    \n",
    "    return df\n",
    "\n",
    "def get_center_dis(df):\n",
    "    '''\n",
    "    国会議事堂からの距離を求める関数\n",
    "    '''\n",
    "    df = get_location_lonlat(df)\n",
    "    df['center_dis'] = df.apply(lambda x: vincenty((x['loc_lat'],x['loc_lon']),(35.6759323, 139.7450316)).meters, axis=1)\n",
    "    return df"
   ]
  },
  {
   "cell_type": "code",
   "execution_count": 4,
   "metadata": {},
   "outputs": [],
   "source": [
    "def get_city(df):\n",
    "    '''\n",
    "    区を抽出\n",
    "    '''\n",
    "    ## 市町村をわける\n",
    "    siku = [\"千代田区\",\"中央区\",\"港区\",\"新宿区\",\"文京区\",\"台東区\",\"墨田区\",\"江東区\",\"品川区\",\"目黒区\",\"大田区\",\"世田谷区\",\"渋谷区\",\"中野区\",\n",
    "            \"杉並区\",\"豊島区\",\"北区\",\"荒川区\",\"板橋区\",\"練馬区\",\"足立区\",\"葛飾区\",\"江戸川区\",\"八王子市\",\"立川市\",\"武蔵野市\",\"三鷹市\",\"青梅市\",\n",
    "            \"府中市\",\"昭島市\",\"調布市\",\"町田市\",\"小金井市\",\"小平市\",\"日野市\",\"東村山市\",\"国分寺市\",\"国立市\",\"福生市\",\"狛江市\",\"東大和市\",\n",
    "            \"清瀬市\",\"東久留米市\",\"武蔵村山市\",\"多摩市\",\"稲城市\",\"羽村市\",\"あきる野市\",\"西東京市\",\"瑞穂町\",\"日の出町\",\"檜原村\",\"奥多摩町\",\n",
    "            \"大島町\",\"利島村\",\"新島村\",\"神津島村\",\"三宅村\",\"御蔵島村\",\"八丈町\",\"青ヶ島村\",\"小笠原村\",]\n",
    "    \n",
    "    df['city'] = df['所在地'].apply(lambda x: x.replace('東京都',''))\n",
    "    df['city'] = df['city'].apply(lambda x: [s for s in siku if s in x][0])\n",
    "    \n",
    "    ## 市区町村を抜く\n",
    "    df['city2'] = df['所在地'].apply(lambda x: x.replace('東京都',''))\n",
    "    for s in siku:\n",
    "        df['city2'] = df['city2'].apply(lambda x: x.replace(s,''))   \n",
    "        \n",
    "    df['city2'] = df['city2'].apply(lambda x: re.split('\\d+',x)[0])\n",
    "    \n",
    "    \n",
    "    return df"
   ]
  },
  {
   "cell_type": "markdown",
   "metadata": {},
   "source": [
    "### 間取り"
   ]
  },
  {
   "cell_type": "code",
   "execution_count": 5,
   "metadata": {},
   "outputs": [],
   "source": [
    "def get_floor_plan(df):\n",
    "    '''\n",
    "    間取りを詳しく分けたものを取得\n",
    "    '''\n",
    "    df['納戸'] = df['間取り'].apply(lambda x: 1 if '納戸' in x else 0)\n",
    "    \n",
    "    df['間取り'] = df['間取り'].apply(lambda x: x.replace('(納戸)','').replace('+S',''))\n",
    "    df['間取り'] = df['間取り'].str.replace('LK', 'LDK')\n",
    "    \n",
    "    df['部屋数'] = df['間取り'].apply(lambda x:int(re.sub('\\\\D', '', x)))\n",
    "    df['L'] = df['間取り'].apply(lambda x:1 if 'L' in x else 0)\n",
    "    df['D'] = df['間取り'].apply(lambda x:1 if 'D' in x else 0)\n",
    "    df['K'] = df['間取り'].apply(lambda x:1 if 'K' in x else 0)\n",
    "    \n",
    "    df['LDK'] = df['間取り'].apply(lambda x:1 if 'LDK' in x else 0)\n",
    "    df['DK'] = df['間取り'].apply(lambda x:1 if 'DK' in x else 0)\n",
    "    #df['R'] = df['間取り'].apply(lambda x:1 if 'R' in x else 0)\n",
    "    \n",
    "    return df"
   ]
  },
  {
   "cell_type": "markdown",
   "metadata": {},
   "source": [
    "### 築年数"
   ]
  },
  {
   "cell_type": "code",
   "execution_count": 6,
   "metadata": {},
   "outputs": [],
   "source": [
    "def get_age(df):\n",
    "    '''\n",
    "    築年数に関して、新築フラグと築年数を求める\n",
    "    '''\n",
    "    ## 新築フラグ\n",
    "    df['新築'] = df['築年数'].apply(lambda x:1 if x=='新築' else 0)\n",
    "    \n",
    "    ## 新築を0年0カ月に\n",
    "    df['築年数'] = df['築年数'].apply(lambda x:'0年0ヶ月' if x=='新築' else x)\n",
    "    \n",
    "    ## 築年数を月計算\n",
    "    df['築年数'] = df['築年数'].apply(lambda x: int(re.sub('\\\\D', '', x.split('年')[0]))*12 + int(re.sub('\\\\D', '', x.split('年')[1])))\n",
    "    \n",
    "    return df"
   ]
  },
  {
   "cell_type": "markdown",
   "metadata": {},
   "source": [
    "### 面積"
   ]
  },
  {
   "cell_type": "code",
   "execution_count": 7,
   "metadata": {},
   "outputs": [],
   "source": [
    "def get_area(df):\n",
    "    '''\n",
    "    面積と畳計算したものを取得\n",
    "    '''\n",
    "    df['面積'] = df['面積'].apply(lambda x:x[:-2]).astype(float)\n",
    "    \n",
    "    \n",
    "    ## 畳計算\n",
    "    df['畳'] = df['面積'].apply(lambda x: int(x/1.45))\n",
    "    \n",
    "    return df"
   ]
  },
  {
   "cell_type": "markdown",
   "metadata": {},
   "source": [
    "### 所在階"
   ]
  },
  {
   "cell_type": "code",
   "execution_count": 8,
   "metadata": {},
   "outputs": [],
   "source": [
    "# 所在階の処理\n",
    "def get_floor(data):\n",
    "    '''\n",
    "    戸建て・地下フラグ、所在階、総階数を入れる\n",
    "    '''\n",
    "    \n",
    "    df['戸建て'] = df['所在階'].apply(lambda x: 0 if '／' in str(x) else 1)\n",
    "    \n",
    "    # 所在階と合計階数と地下階数に分ける\n",
    "    df['総階数'] = [int(re.findall('(\\d+階建)', i)[0][:-2]) if len(re.findall('(\\d+階建)', i)) != 0 else np.nan  for i in df['所在階'].astype(str)]\n",
    "    df['地下階数'] = [int(re.findall('(地下\\d+階)', i)[0][2:-1]) if len(re.findall('(地下\\d+階)', i)) != 0 else 0  for i in df['所在階'].astype(str)]\n",
    "    df['所在階'] = [int(re.findall('(\\d+階[^建][^)])', i)[0][:-3]) if len(re.findall('(\\d+階[^建][^)])', i)) != 0 else np.nan  for i in df['所在階'].astype(str)]\n",
    "    \n",
    "    return df"
   ]
  },
  {
   "cell_type": "markdown",
   "metadata": {},
   "source": [
    "### 契約年数"
   ]
  },
  {
   "cell_type": "code",
   "execution_count": 9,
   "metadata": {},
   "outputs": [],
   "source": [
    "def get_construct(df):\n",
    "    '''\n",
    "    契約期間が「まで」かどうか・借家のダミーと契約期間の月数を取得\n",
    "    '''\n",
    "    ## 欠損値を埋める\n",
    "    df['契約期間'] = df['契約期間'].fillna('-')\n",
    "    \n",
    "    ## 借家フラグ\n",
    "    df['借家'] = df['契約期間'].apply(lambda x: 1 if '定期借家' in x else 0)\n",
    "    \n",
    "    # までダミー\n",
    "    df['契約期間(まで)'] = df['契約期間'].apply(lambda x: 1 if 'まで' in x else 0)\n",
    "    \n",
    "    ## 契約期間の月数\n",
    "    df['契約期間'] = df['契約期間'].apply(lambda x:x.split()[0])\n",
    "    df['契約期間'] = df['契約期間'].apply(lambda x: 12*int(x.split('年間')[0]) if '年間' in x\n",
    "                                         else 12*int(x.split('年')[0])+int(re.sub('\\\\D', '', x.split('年')[1])) if ('月間' in x) and ('年' in x)\n",
    "                                         else int(re.sub('\\\\D','',x)) if '月間' in x\n",
    "                                         else 12*(int(re.sub('\\\\D', '', x.split('年')[0]))-2019)+(int(re.sub('\\\\D', '', x.split('年')[1]))-10)  \n",
    "                                                 if ('まで' in x)and (int(re.sub('\\\\D', '', x.split('年')[1]))-10>=0)\n",
    "                                         else 12*(int(re.sub('\\\\D', '', x.split('年')[0]))-2020)+13+(int(re.sub('\\\\D', '', x.split('年')[1]))-10)\n",
    "                                                 if  'まで' in x\n",
    "                                         else x)\n",
    "    df['契約期間'] = df['契約期間'].apply(lambda x: int(x) if x!='-' else 0)\n",
    "    \n",
    "    return df"
   ]
  },
  {
   "cell_type": "markdown",
   "metadata": {},
   "source": [
    "### バストイレ"
   ]
  },
  {
   "cell_type": "code",
   "execution_count": 10,
   "metadata": {},
   "outputs": [],
   "source": [
    "def get_BathToilet(df):\n",
    "    '''\n",
    "    バス・トイレの機能を全てダミー変数に\n",
    "    '''\n",
    "    \n",
    "    ## 欠損値を埋める\n",
    "    df['バス・トイレ'].fillna('-',inplace=True)\n",
    "    \n",
    "    ## 何が含まれているのか\n",
    "    b_t = set()\n",
    "    bath = df['バス・トイレ'].apply(lambda x:str(x).split('／')).values\n",
    "    for lis in bath:\n",
    "        for i in lis:\n",
    "            i = i.replace('\\t','')\n",
    "            b_t.add(i)\n",
    "\n",
    "    ## それぞれにフラグを立てる\n",
    "    for bt in b_t:\n",
    "        df[bt] = df['バス・トイレ'].apply(lambda x: 1 if bt in x else 0)\n",
    "    \n",
    "    return df"
   ]
  },
  {
   "cell_type": "markdown",
   "metadata": {},
   "source": [
    "### キッチン"
   ]
  },
  {
   "cell_type": "code",
   "execution_count": 11,
   "metadata": {},
   "outputs": [],
   "source": [
    "def get_kitchen(df):\n",
    "    '''\n",
    "    キッチン機能のフラグ\n",
    "    '''\n",
    "    ## 欠損値を埋める\n",
    "    df['キッチン'].fillna('-',inplace=True)\n",
    "    \n",
    "    kit = set()\n",
    "    kitchen = df['キッチン'].apply(lambda x:str(x).split('／')).values\n",
    "    for lis in kitchen:\n",
    "        for i in lis:\n",
    "            i = i.replace('\\t','')\n",
    "            kit.add(i)\n",
    "\n",
    "    ## それぞれにフラグを立てる\n",
    "    for k in kit:\n",
    "        if k=='-':\n",
    "            continue\n",
    "        df[k] = df['キッチン'].apply(lambda x: 1 if k in x else 0)\n",
    "    \n",
    "    return df"
   ]
  },
  {
   "cell_type": "markdown",
   "metadata": {},
   "source": [
    "### 放送・通信"
   ]
  },
  {
   "cell_type": "code",
   "execution_count": 12,
   "metadata": {},
   "outputs": [],
   "source": [
    "def get_broadcast(df):\n",
    "    '''\n",
    "    放送・通信のダミー取得\n",
    "    '''\n",
    "    ## 欠損値を埋める\n",
    "    df['放送・通信'].fillna('-',inplace=True)\n",
    "    \n",
    "    ## 何が含まれているのか\n",
    "    bro = set()\n",
    "    broad = df['放送・通信'].apply(lambda x:str(x).split('／')).values\n",
    "    for lis in broad:\n",
    "        for i in lis:\n",
    "            i = i.replace('\\t','')\n",
    "            bro.add(i)\n",
    "        \n",
    "    ## それぞれにフラグを立てる\n",
    "    for br in bro:\n",
    "        if br=='-':\n",
    "            continue\n",
    "        df[br] = df['放送・通信'].apply(lambda x: 1 if br in x else 0)\n",
    "    \n",
    "    return df"
   ]
  },
  {
   "cell_type": "markdown",
   "metadata": {},
   "source": [
    "### 周辺環境"
   ]
  },
  {
   "cell_type": "code",
   "execution_count": 13,
   "metadata": {},
   "outputs": [],
   "source": [
    "def get_env(df):\n",
    "    '''\n",
    "    周辺環境施設までの距離と個数\n",
    "    '''\n",
    "    ## 欠損値を埋める\n",
    "    df['周辺環境'].fillna('-',inplace=True)\n",
    "    \n",
    "    ## 何が含まれているのか\n",
    "    en = set()\n",
    "    env = df['周辺環境'].apply(lambda x:str(x).split('\\t')).values\n",
    "    for lis in env:\n",
    "        for i in lis:\n",
    "            if i =='-':\n",
    "                continue\n",
    "            i = re.findall('【.*】',i)[0]\n",
    "            en.add(i)\n",
    "    \n",
    "    for e in en:\n",
    "        ## 周辺環境との最短距離\n",
    "        df[str(e)+'_dis'] = df['周辺環境'].apply(lambda x: int(str(x).split()[str(x).split().index(e)+1].replace('m','')) if e in str(x).split() else 0)     \n",
    "        ## 周辺環境の個数\n",
    "        df[str(e)+'_num'] = df['周辺環境'].apply(lambda x: str(x).split().count(e))\n",
    "        \n",
    "    return df"
   ]
  },
  {
   "cell_type": "markdown",
   "metadata": {},
   "source": [
    "### 室内設備"
   ]
  },
  {
   "cell_type": "code",
   "execution_count": 14,
   "metadata": {},
   "outputs": [],
   "source": [
    "def get_facilities(df):\n",
    "    '''\n",
    "    室内設備のダミー\n",
    "    '''\n",
    "    \n",
    "    ## 欠損値を埋める\n",
    "    df['室内設備'].fillna('-',inplace=True)\n",
    "    \n",
    "    ## 何が含まれているのか\n",
    "    fac = set()\n",
    "    facility = df['室内設備'].apply(lambda x:str(x).split()).values\n",
    "    for lis in facility:\n",
    "        for i in lis:\n",
    "            i = i.replace('／','')\n",
    "            fac.add(i)\n",
    "\n",
    "    ## それぞれにフラグを立てる\n",
    "    fe = []\n",
    "    for f in fac:\n",
    "        if f =='-' or f=='':\n",
    "            continue\n",
    "        df[f] = df['室内設備'].apply(lambda x: 1 if f in x else 0)\n",
    "    \n",
    "    return df"
   ]
  },
  {
   "cell_type": "markdown",
   "metadata": {},
   "source": [
    "### 駐車場"
   ]
  },
  {
   "cell_type": "code",
   "execution_count": 15,
   "metadata": {},
   "outputs": [],
   "source": [
    "def get_park(df):\n",
    "    '''\n",
    "    駐車場に関して\n",
    "    '''\n",
    "    ## 欠損値を埋める\n",
    "    df['駐車場'].fillna('-',inplace=True)\n",
    "    \n",
    "    park = ['駐輪場','駐車場','バイク置き場']\n",
    "    \n",
    "    for p in park:\n",
    "        ## 駐車場の状況を\n",
    "        df[p] = df['駐車場'].apply(lambda x: x.split()[x.split().index(p)+1].split('(')[0] if p in x.split() else '-')\n",
    "        \n",
    "    return df"
   ]
  },
  {
   "cell_type": "markdown",
   "metadata": {},
   "source": [
    "### アクセス"
   ]
  },
  {
   "cell_type": "code",
   "execution_count": 16,
   "metadata": {},
   "outputs": [],
   "source": [
    "import mojimoji\n",
    "def get_access(data,in_col='アクセス',out_cols=['線名','駅名']):\n",
    "    data2=data.copy()\n",
    "    main_line= ['山手線', '中央線', '大江戸線', '丸ノ内線', '三田線', '新宿線', '総武線', '東西線', '有楽町線',\n",
    "   '日比谷線', '西武池袋線', '京王線', '西武新宿線', '東武東上線', '浅草線', '京浜東北線', '千代田線', '本線',\n",
    "   '南北線', '小田急小田原線', '田園都市線', '京王井の頭線', '池上線', '東横線', '京成本線', '大井町線',\n",
    "   '半蔵門線', '常磐線', '世田谷線', '目黒線']\n",
    "    def separate_all(x):\n",
    "        list_ = re.split('\\t|\\u3000|・|：', x)\n",
    "        #カッコとカッコ内の言葉を除\n",
    "        list_ = [re.sub('\\(.*?\\)|\\（.*?\\）', '', x) for x in list_]\n",
    "        list_ =[re.sub('丸の内', '丸ノ内', x) for x in list_]\n",
    "        list_ = [mojimoji.zen_to_han(x, kana=False) for x in list_ if x]\n",
    "        return list_\n",
    "\n",
    "    def extract_rails(List, word='線'):\n",
    "\n",
    "        New_list=[x.split(word)[0] + word for x in List if re.search(word, x)]\n",
    "        New_list=[re.sub('東京都|JR|東急|都営|京急|東急メトロ|東京メトロ|小田急電鉄|','',x) for x in New_list]\n",
    "        New_list=[x for x in New_list if x in main_line]\n",
    "\n",
    "        return New_list\n",
    "\n",
    "    def extract_stations(List, word='駅'):\n",
    "        List = [x.split(word)[0] + word for x in List if re.search(word, x)]\n",
    "        New_List = []\n",
    "        for x in List:\n",
    "            if re.search('線', x):\n",
    "                x = x.split('線')[1]\n",
    "            if re.search('(＼|バス)', x):\n",
    "                x = re.split('(＼|バス)', x)[1]\n",
    "            x=x.replace('バス','').replace('東京臨海高速鉄道','').replace('』','').replace('『','')\\\n",
    "                          .replace('ゆりかもめ','').replace('001/','').replace('JR','').replace('「','').replace('」','')\\\n",
    "                          .replace('JR','').replace('つくばエクスプレス','').replace('日暮里舎人ライナー','').replace('見01/','')\\\n",
    "                          .replace('見01/','').replace('ステーション駅','').replace('錦22/','').replace('.','')\\\n",
    "                          .replace('ヶ','ケ').replace('京急','').replace('桜上上水駅 ','桜上水駅 ').replace('興沢駅','奥沢駅')\\\n",
    "                          .replace('東京モノレール整備場駅 ','').replace('京浜','').replace('都電','').replace('亀29/','').replace('東京都','')\n",
    "            New_List.append(x)\n",
    "        New_List = [mojimoji.zen_to_han(x, kana=False) for x in New_List if x]\n",
    "        return New_List\n",
    "    def check_list(List, word):\n",
    "        return 1 if word in set(List) else 0\n",
    "    data2[in_col] = data2[in_col].apply(separate_all)\n",
    "    data2[out_cols[0]] = data2[in_col].apply(extract_rails, word='線')\n",
    "    data2[out_cols[1]] = data2[in_col].apply(extract_stations, word='駅')\n",
    "    for spot in main_line:\n",
    "        data2[spot] = data2[out_cols[0]].apply(check_list,word=spot)\n",
    "    return data2"
   ]
  },
  {
   "cell_type": "markdown",
   "metadata": {},
   "source": [
    "#### 駅の緯度経度追加"
   ]
  },
  {
   "cell_type": "code",
   "execution_count": 17,
   "metadata": {},
   "outputs": [],
   "source": [
    "def get_station_latlon(df):\n",
    "    '''\n",
    "    駅の緯度経度を取得\n",
    "    '''\n",
    "    \n",
    "    ## 駅の緯度経度\n",
    "    sta = pd.read_table('./input/station2.txt',delimiter=',')\n",
    "    sta = sta.rename(columns={'station':'駅名'})\n",
    "    \n",
    "    ## 最寄り駅の緯度経度追加\n",
    "    ## lon, latのマッピング\n",
    "    lat_map = sta.groupby('駅名')['lat'].max()\n",
    "    lon_map = sta.groupby('駅名')['lon'].max()\n",
    "    df['sta_lat'] = df['駅名'].map(lat_map)\n",
    "    df['sta_lon'] = df['駅名'].map(lon_map)\n",
    "    \n",
    "    return df"
   ]
  },
  {
   "cell_type": "code",
   "execution_count": 18,
   "metadata": {},
   "outputs": [],
   "source": [
    "def get_loc_type(data,out_col='loc_type'):\n",
    "    '''緯度経度による、グリッドを作成'''\n",
    "    data2=data.copy()\n",
    "    data[out_col]=0\n",
    "    for i in range(12):\n",
    "        for j in range(9):\n",
    "            data2.loc[data2.query(f'139.569+{i*0.03}<loc_lon<139.569+{(i+1)*0.03}&35.54+{j*0.03}<loc_lat<35.54+{(j+i)*0.03}').index,out_col]=i*12+j\n",
    "    return data2\n"
   ]
  },
  {
   "cell_type": "code",
   "execution_count": 19,
   "metadata": {},
   "outputs": [],
   "source": [
    "def get_manshon(df, in_col='駅名'):\n",
    "\n",
    "    ## 駅別マンション平均単価\n",
    "    manshon = pd.read_csv('./input/manshon.csv')\n",
    "    manshon_map1 = manshon.groupby('駅名')['2012年平均単価'].min()\n",
    "    manshon_map2 = manshon.groupby('駅名')['2017年平均単価'].min()\n",
    "    manshon_map3 = manshon.groupby('駅名')['上昇率'].min()\n",
    "    df['2012年平均単価'] = df[in_col].map(manshon_map1)\n",
    "    df['2017年平均単価'] = df[in_col].map(manshon_map2)\n",
    "    df['上昇率'] = df[in_col].map(manshon_map3)\n",
    "\n",
    "    mean_2012 = df.groupby('id')['2012年平均単価'].mean()\n",
    "    min_2012 = df.groupby('id')['2012年平均単価'].min()\n",
    "    max_2012 = df.groupby('id')['2012年平均単価'].max()\n",
    "    mean_2017 = df.groupby('id')['2017年平均単価'].mean()\n",
    "    min_2017 = df.groupby('id')['2017年平均単価'].min()\n",
    "    max_2017 = df.groupby('id')['2017年平均単価'].max()\n",
    "    mean_up = df.groupby('id')['上昇率'].mean()\n",
    "    min_up = df.groupby('id')['上昇率'].min()\n",
    "    max_up = df.groupby('id')['上昇率'].max()\n",
    "    df['2012平均単価_mean'] = df.id.map(mean_2012)\n",
    "    df['2012平均単価_max'] = df.id.map(max_2012)\n",
    "    df['2012平均単価_min'] = df.id.map(min_2012)\n",
    "    df['2017平均単価_mean'] = df.id.map(mean_2017)\n",
    "    df['2017平均単価_max'] = df.id.map(max_2017)\n",
    "    df['2017平均単価_min'] = df.id.map(min_2017)\n",
    "    df['上昇率_mean'] = df.id.map(mean_up)\n",
    "    df['上昇率_max'] = df.id.map(max_up)\n",
    "    df['上昇率_min'] = df.id.map(min_up)\n",
    "\n",
    "    return df\n"
   ]
  },
  {
   "cell_type": "markdown",
   "metadata": {},
   "source": [
    "### データ整形"
   ]
  },
  {
   "cell_type": "code",
   "execution_count": 25,
   "metadata": {},
   "outputs": [
    {
     "name": "stdout",
     "output_type": "stream",
     "text": [
      "訓練データ :  (31470, 17)\n",
      "テストデータ :  (31262, 16)\n"
     ]
    }
   ],
   "source": [
    "train = pd.read_csv('./input/train.csv')\n",
    "test = pd.read_csv('./input/test.csv')\n",
    "id_max = train.id.max()\n",
    "df = pd.concat([train, test]).reset_index(drop=True)\n",
    "print('訓練データ : ', train.shape)\n",
    "print('テストデータ : ',test.shape)"
   ]
  },
  {
   "cell_type": "code",
   "execution_count": 26,
   "metadata": {},
   "outputs": [],
   "source": [
    "###タイガのお手製住所変換\n",
    "import pickle\n",
    "with open('./team_data/df_loc.pkl', mode='rb') as f:\n",
    "    location=pickle.load(f)\n",
    "\n",
    "df['所在地']=location['所在地']"
   ]
  },
  {
   "cell_type": "code",
   "execution_count": 27,
   "metadata": {},
   "outputs": [],
   "source": [
    "raw_df=df.copy()"
   ]
  },
  {
   "cell_type": "code",
   "execution_count": 28,
   "metadata": {},
   "outputs": [
    {
     "name": "stdout",
     "output_type": "stream",
     "text": [
      "CPU times: user 11 s, sys: 69.9 ms, total: 11.1 s\n",
      "Wall time: 11 s\n"
     ]
    }
   ],
   "source": [
    "%%time\n",
    "## 前処理\n",
    "df=raw_df.copy()\n",
    "df = get_BathToilet(df)\n",
    "df = get_access(df)\n",
    "df = get_age(df)\n",
    "df = get_area(df)\n",
    "df = get_broadcast(df)\n",
    "df = get_center_dis(df)\n",
    "df = get_city(df)\n",
    "df = get_construct(df)\n",
    "df = get_env(df)\n",
    "df = get_facilities(df)\n",
    "df = get_floor(df)\n",
    "df = get_floor_plan(df)\n",
    "df = get_kitchen(df)\n"
   ]
  },
  {
   "cell_type": "code",
   "execution_count": 29,
   "metadata": {},
   "outputs": [],
   "source": [
    "from pathlib import Path\n",
    "if not Path('./team_data/modify_test_target.csv').is_file():\n",
    "    df['Flag']=0\n",
    "    df[train.shape[0]:]['Flag']=1\n",
    "\n",
    "    df['loc_flag'] = df['所在地'].apply(lambda x: 1 if '-' in x else 0)\n",
    "    df_c = df[df['loc_flag']==1]\n",
    "    df_e = df[df['loc_flag']==0]\n",
    "\n",
    "    df_c_tr = df_c[df_c['Flag']==0][['id','所在地','賃料','築年数','所在階','契約期間','方角','面積','2面採光','シャワー'\n",
    "                                     ,'CATV','BSアンテナ','専用トイレ','敷地内ごみ置き場','脱衣所','専用バス',\n",
    "                                     'エアコン付','ウォークインクローゼット','光ファイバー','コンロ2口','タイル張り',\n",
    "                                    'インターネット対応','独立キッチン','【スーパー】_dis']]\n",
    "\n",
    "    df_c_te = df_c[df_c['Flag']==1][['id','所在地','築年数','所在階','契約期間','方角','面積','2面採光','シャワー',\n",
    "                                     'CATV','BSアンテナ','専用トイレ','敷地内ごみ置き場','脱衣所','専用バス',\n",
    "                                    'エアコン付','ウォークインクローゼット','光ファイバー','コンロ2口','タイル張り',\n",
    "                                    'インターネット対応','独立キッチン','【スーパー】_dis']]               \n",
    "\n",
    "\n",
    "    count = 0\n",
    "    for idx in tqdm(df_c_te.index,position=0):\n",
    "        id_ = df_c_te.loc[idx,'id']\n",
    "        loc_ = df_c_te.loc[idx,'所在地']\n",
    "        age_ = df_c_te.loc[idx,'築年数']\n",
    "        floor_ = df_c_te.loc[idx,'所在階']\n",
    "        cons_ = df_c_te.loc[idx,'契約期間']\n",
    "        dir_ = df_c_te.loc[idx,'方角']\n",
    "        area_ = df_c_te.loc[idx,'面積']\n",
    "        flash_ = df_c_te.loc[idx,'2面採光']\n",
    "        shower_ = df_c_te.loc[idx,'シャワー']\n",
    "        catv_ = df_c_te.loc[idx,'CATV']\n",
    "        bs_ = df_c_te.loc[idx,'BSアンテナ']\n",
    "        toi_ = df_c_te.loc[idx,'専用トイレ']\n",
    "        dust_ = df_c_te.loc[idx,'敷地内ごみ置き場']\n",
    "        dress_ = df_c_te.loc[idx,'脱衣所']\n",
    "        bath_ = df_c_te.loc[idx,'専用バス']\n",
    "        air_ = df_c_te.loc[idx,'エアコン付']\n",
    "        WiC_ = df_c_te.loc[idx,'ウォークインクローゼット']\n",
    "        hikari_ = df_c_te.loc[idx,'光ファイバー']\n",
    "        konro2_ = df_c_te.loc[idx,'コンロ2口']\n",
    "        tile_ = df_c_te.loc[idx,'タイル張り']\n",
    "        inter_ = df_c_te.loc[idx,'インターネット対応']\n",
    "        dkit_ = df_c_te.loc[idx,'独立キッチン']\n",
    "        super_ = df_c_te.loc[idx,'【スーパー】_dis']\n",
    "\n",
    "\n",
    "        target = df_c_tr[(df_c_tr['所在地']==loc_)&(df_c_tr['築年数']==age_)&(df_c_tr['所在階']==floor_)&(df_c_tr['契約期間']==cons_)&\n",
    "                         (df_c_tr['方角']==dir_)&(df_c_tr['面積']==area_)&(df_c_tr['2面採光']==flash_)&\n",
    "                        (df_c_tr['シャワー']==shower_)&(df_c_tr['CATV']==catv_)&(df_c_tr['BSアンテナ']==bs_)&\n",
    "                        (df_c_tr['専用トイレ']==toi_)&(df_c_tr['敷地内ごみ置き場']==dust_)&\n",
    "                        (df_c_tr['脱衣所']==dress_)&(df_c_tr['専用バス']==bath_)&(df_c_tr['エアコン付']==air_)&\n",
    "                        (df_c_tr['ウォークインクローゼット']==WiC_)&(df_c_tr['光ファイバー']==hikari_)&\n",
    "                        (df_c_tr['コンロ2口']==konro2_)&(df_c_tr['タイル張り']==tile_)&\n",
    "                        (df_c_tr['インターネット対応']==inter_)&(df_c_tr['独立キッチン']==dkit_)&\n",
    "                        (df_c_tr['【スーパー】_dis']==super_)]['賃料'].unique()\n",
    "\n",
    "\n",
    "        try:\n",
    "            if len(target)>0:\n",
    "                df_c_te.loc[df_c_te['id']==id_,'賃料'] = target\n",
    "                count += 1\n",
    "        except:\n",
    "            continue\n",
    "    print('変更した数',count)\n",
    "    df_c_te[['id','賃料']].dropna().to_csv('./team_data/modify_test_target.csv')\n",
    "    df.drop(columns='Flag',inplace=True)"
   ]
  },
  {
   "cell_type": "code",
   "execution_count": 30,
   "metadata": {},
   "outputs": [
    {
     "name": "stderr",
     "output_type": "stream",
     "text": [
      "100%|██████████| 23977/23977 [03:56<00:00, 101.54it/s]\n"
     ]
    }
   ],
   "source": [
    "import jaconv\n",
    "df['所在地'] = df['所在地'].apply(lambda x: jaconv.z2h(x,digit=True,ascii=True).replace('(','').replace(')',''))\n",
    "\n",
    "df['loc_flag'] = df['所在地'].apply(lambda x: 1 if '-' in x else 0)\n",
    "mini_df=df[['id','築年数','総階数','面積','所在地','loc_flag']]\n",
    "df_c = mini_df[mini_df['loc_flag']==1]\n",
    "df_e = mini_df[mini_df['loc_flag']==0]\n",
    "\n",
    "\n",
    "for idx in tqdm(df_e.index,position=0):\n",
    "    id_ = df_e.loc[idx,'id']\n",
    "    loc_=df_e.loc[idx,'所在地']\n",
    "    age_=df_e.loc[idx,'築年数']\n",
    "    floor_=df_e.loc[idx,'総階数']\n",
    "    area_=df_e.loc[idx,'面積']\n",
    "    \n",
    "    df_c['丁目_flag'] = df_c['所在地'].apply(lambda x: 1 if loc_ in x else 0)\n",
    "    ddd = df_c[df_c['丁目_flag']==1]\n",
    "    same_loc = ddd[(ddd['築年数']==age_) & (ddd['総階数']==floor_)]['所在地'].unique()\n",
    "    if len(same_loc)>1:\n",
    "        same_loc = ddd[(ddd['築年数']==age_) & (ddd['総階数']==floor_)&(ddd['面積']==area_)]['所在地'].unique()\n",
    "    if len(same_loc)==1:\n",
    "        df.loc[df['id']==id_,'所在地'] = same_loc"
   ]
  },
  {
   "cell_type": "markdown",
   "metadata": {},
   "source": [
    "### 駅に関する前処理"
   ]
  },
  {
   "cell_type": "code",
   "execution_count": 31,
   "metadata": {},
   "outputs": [],
   "source": [
    "df = get_location_lonlat(df)\n",
    "df = get_park(df)\n",
    "df = get_loc_type(df)"
   ]
  },
  {
   "cell_type": "code",
   "execution_count": 32,
   "metadata": {},
   "outputs": [],
   "source": [
    "#駅と緯度経度が対応した辞書を作る\n",
    "sta = pd.read_table('./input/station2.txt',delimiter=',')\n",
    "sta = sta.rename(columns={'station':'駅名'})\n",
    "sta.set_index('駅名',inplace=True,drop=True)\n",
    "\n",
    "sta_dict=sta.to_dict()\n",
    "def convert_sta_lat(_list):\n",
    "    new_list=[]\n",
    "    for x in _list:\n",
    "        lat = sta_dict['lat'][x] if x in sta_dict['lat'] else np.nan\n",
    "        lon = sta_dict['lon'][x] if x in sta_dict['lon'] else np.nan\n",
    "        new_list.append((lat,lon))\n",
    "    \n",
    "    return new_list\n",
    "#駅名リスト列を緯度経度で変換し返す\n",
    "df['lat_sta']=df['駅名'].apply(convert_sta_lat)"
   ]
  },
  {
   "cell_type": "code",
   "execution_count": 33,
   "metadata": {},
   "outputs": [],
   "source": [
    "def get_geo_features(lat,lon,station,lat_sta):\n",
    "    '''複数引数と返り値を持つapply pd,seriesで返す必要がある。\n",
    "    準備:\n",
    "    lat,lon...緯度経度列(float)\n",
    "    station...駅がリストで格納されている列\n",
    "    lat_sta...station列を緯度経度に変換したリスト列\n",
    "    緯度経度距離をかえし、統計量を取得する\n",
    "    '''\n",
    "    # print(lat,lon,station,lat_sta)\n",
    "    distances=np.array([])\n",
    "    for i,x in enumerate(lat_sta):\n",
    "        if not np.isnan(x[0]) and not np.isnan(lat):\n",
    "            distances=np.append(distances,vincenty((lat,lon),x).meters)\n",
    "    # print(distances)\n",
    "    # distances=np.array([ for x in lat_sta if x[0]!=np.nan])\n",
    "    _mean=np.mean(distances) if len(distances)>0 else np.nan\n",
    "    _med=np.median(distances) if len(distances)>0 else np.nan\n",
    "    _max =np.max(distances) if len(distances)>0 else np.nan\n",
    "    nearest_station=station[np.argmin(distances)] if len(distances)>0 else np.nan\n",
    "    second_station= station[distances.argsort()[1]] if len(distances)>1 else np.nan\n",
    "    thrid_station=station[distances.argsort()[2]] if len(distances)>2 else np.nan\n",
    "\n",
    "    return pd.Series([distances,_mean,_med,_max,nearest_station,second_station,thrid_station])\n",
    "\n",
    "df[['distances','sta_mean','sta_min','sta_max','nearest_sta','second_sta','third_sta']]=\\\n",
    "df.apply(lambda x:get_geo_features(x['loc_lat'],x['loc_lon'],x['駅名'],x['lat_sta']),axis=1)"
   ]
  },
  {
   "cell_type": "code",
   "execution_count": 34,
   "metadata": {},
   "outputs": [
    {
     "name": "stdout",
     "output_type": "stream",
     "text": [
      "鑑定評価額\n",
      "1m2当たりの価格\n"
     ]
    }
   ],
   "source": [
    "import jaconv\n",
    "df['所在地'] =  df['所在地'].apply(lambda x: jaconv.z2h(x,digit=True, ascii=True)) \n",
    "\n",
    "tika = pd.read_csv('team_data/2019_TAKUCHI_k_13_after.csv',encoding='cp932')\n",
    "tika = get_city(tika)\n",
    "tika['丁目'] = tika['所在地'].apply(lambda x: x.split('目')[0]+'目' if '目' in x\n",
    "                                          else np.nan)\n",
    "\n",
    "\n",
    "for feature in ['鑑定評価額','1m2当たりの価格']:\n",
    "    print(feature)\n",
    "    for key_feature in ['所在地','丁目','city2']:\n",
    "\n",
    "        tika_map = tika.groupby(key_feature)[feature].mean()\n",
    "        df[feature+'_'+key_feature] = df['所在地'].map(tika_map)\n",
    "        if key_feature=='city2':\n",
    "            df[feature+'_'+key_feature] = df['city2'].map(tika_map)\n",
    "#         elif key_feature=='駅名':\n",
    "#             df[feature+'_'+key_feature] = df['駅名'].map(tika_map)\n",
    "\n",
    "    # 合わせる\n",
    "    df[feature] = df[feature+'_所在地']\n",
    "    df.loc[df[feature].isnull(),feature] = df[df[feature].isnull()][feature+'_丁目']\n",
    "    df.loc[df[feature].isnull(),feature] = df[df[feature].isnull()][feature+'_city2']\n",
    "    df.loc[df[feature].isnull(),feature] = df[df[feature].isnull()][feature+'_所在地']"
   ]
  },
  {
   "cell_type": "code",
   "execution_count": 35,
   "metadata": {},
   "outputs": [],
   "source": [
    "def get_landprice(df, k=50):\n",
    "    '''\n",
    "    地価のk近傍点を取得\n",
    "    '''\n",
    "    import geopandas as gpd\n",
    "    from sklearn.neighbors import KNeighborsRegressor #NearestNeighborsでもよいけど面倒だからそのまま\n",
    "\n",
    "    # 地価データを取得して、緯度経度と地価データのみを抽出\n",
    "    fnames = [\"../hutagami/data/L01-18_%s.geojson\"%i for i in ['08', '11', '12', '13', '14']]\n",
    "    geo_df = pd.DataFrame(columns=['地価(単位面積)', 'loc_lat', 'loc_lon'])\n",
    "    for fname in fnames:\n",
    "        geo = gpd.read_file(fname)\n",
    "        #sample = pd.DataFrame((geo['L01_006'].astype(int) * geo['L01_024'].astype(int)), columns=['地価'])\n",
    "        sample = pd.DataFrame(geo['L01_006'].astype(int).values, columns=['地価(単位面積)'])\n",
    "        sample['geometry'] = geo['geometry']\n",
    "        sample['lonlat'] = sample['geometry'].astype(str).str.replace('POINT ', '').str.replace('(', '').str.replace(')', '').str.split(' ')\n",
    "        sample['loc_lat'] = sample['lonlat'].map(lambda x: float(x[1]))\n",
    "        sample['loc_lon'] = sample['lonlat'].map(lambda x: float(x[0]))\n",
    "        sample = sample[['地価(単位面積)', 'loc_lat', 'loc_lon']]\n",
    "        geo_df = pd.concat([geo_df, sample], axis=0).reset_index(drop=True)\n",
    "\n",
    "    fnames = [\"../hutagami/data/L02-18_%s.geojson\"%i for i in ['08', '11', '12', '13', '14']]\n",
    "    #geo_df = pd.DataFrame(columns=['地価(単位面積)', 'loc_lat', 'loc_lon'])\n",
    "    for fname in fnames:\n",
    "        geo = gpd.read_file(fname)\n",
    "        #sample = pd.DataFrame((geo['L01_006'].astype(int) * geo['L01_024'].astype(int)), columns=['地価'])\n",
    "        sample = pd.DataFrame(geo['L02_006'].astype(int).values, columns=['地価(単位面積)'])\n",
    "        sample['geometry'] = geo['geometry']\n",
    "        sample['lonlat'] = sample['geometry'].astype(str).str.replace('POINT ', '').str.replace('(', '').str.replace(')', '').str.split(' ')\n",
    "        sample['loc_lat'] = sample['lonlat'].map(lambda x: float(x[1]))\n",
    "        sample['loc_lon'] = sample['lonlat'].map(lambda x: float(x[0]))\n",
    "        sample = sample[['地価(単位面積)', 'loc_lat', 'loc_lon']]\n",
    "        geo_df = pd.concat([geo_df, sample], axis=0).reset_index(drop=True)\n",
    "\n",
    "\n",
    "    n_neighbors = k # default=5\n",
    "    # 距離によって重み付けするか\n",
    "    #weights = 'uniform' # しない\n",
    "    weights = 'distance' # する\n",
    "\n",
    "    knn = KNeighborsRegressor(n_neighbors=n_neighbors, weights=weights)\n",
    "    knn.fit(geo_df.drop(['地価(単位面積)'], axis=1), geo_df['地価(単位面積)'])\n",
    "\n",
    "    res = knn.kneighbors(df[['loc_lat', 'loc_lon']], n_neighbors, return_distance=False)\n",
    "    res = geo_df['地価(単位面積)'].loc[res.flatten()].values.flatten().reshape(res.shape).astype(int)\n",
    "    res = pd.DataFrame(res, columns=['地価(単位面積)_neighbor_%s'%(i+1) for i in range(n_neighbors)], index=df.index).astype(float)\n",
    "    for i in range(n_neighbors):\n",
    "        res['地価_neighbor_%s'%(i+1)] = (res['地価(単位面積)_neighbor_%s'%(i+1)] * df['面積']).astype(float)\n",
    "\n",
    "    res['地価_neighbor_mean'] = res[['地価_neighbor_%s'%(i+1) for i in range(n_neighbors)]].mean(axis=1).astype(float)\n",
    "    res['地価_neighbor_std'] = res[['地価_neighbor_%s'%(i+1) for i in range(n_neighbors)]].std(axis=1).astype(float)\n",
    "    res['地価(単位面積)_neighbor_mean'] = res[['地価(単位面積)_neighbor_%s'%(i+1) for i in range(n_neighbors)]].mean(axis=1).astype(float)\n",
    "    res['地価(単位面積)_neighbor_std'] = res[['地価(単位面積)_neighbor_%s'%(i+1) for i in range(n_neighbors)]].std(axis=1).astype(float)\n",
    "\n",
    "    #各近傍点のデータがいらない場合は下のコードを使う\n",
    "    #res = res[['地価_neighbor_mean', '地価_neighbor_std', '地価(単位面積)_neighbor_mean', '地価(単位面積)_neighbor_std']]\n",
    "\n",
    "    df = pd.concat([df, res], axis=1)\n",
    "\n",
    "    return df"
   ]
  },
  {
   "cell_type": "code",
   "execution_count": 36,
   "metadata": {},
   "outputs": [],
   "source": [
    "takuchi_df=pd.read_csv('./team_data/2019_TAKUCHI_k_13_after.csv',encoding='cp932')\n",
    "station_df=pd.read_csv('./team_data/tokyo_station.csv',index_col=0)\n",
    "station_df=station_df.rename(columns={'N02_005':'nearest_sta'})\n",
    "station_df['nearest_sta']=station_df['nearest_sta'].apply(lambda x:x+'駅')"
   ]
  },
  {
   "cell_type": "code",
   "execution_count": 37,
   "metadata": {},
   "outputs": [],
   "source": [
    "df=df.merge(station_df[['nearest_sta','駅のサイズ(路線数)','乗降人数']],how='left',on='nearest_sta').drop_duplicates(subset='id').reset_index(drop=True)"
   ]
  },
  {
   "cell_type": "code",
   "execution_count": 38,
   "metadata": {},
   "outputs": [],
   "source": [
    "df = df.drop(['アクセス','キッチン','バス・トイレ','周辺環境','室内設備','所在地','放送・通信','駅名','lat_sta','distances','線名','駅名'],axis=1)\n",
    "\n"
   ]
  },
  {
   "cell_type": "code",
   "execution_count": 39,
   "metadata": {},
   "outputs": [
    {
     "name": "stdout",
     "output_type": "stream",
     "text": [
      "CPU times: user 159 ms, sys: 18 µs, total: 159 ms\n",
      "Wall time: 190 ms\n"
     ]
    }
   ],
   "source": [
    "%%time\n",
    "col='nearest_sta'\n",
    "df.loc[3538, col] = '六町駅'\n",
    "df.loc[3575, col] = '仙川駅'\n",
    "df.loc[3657, col] = '六町駅'\n",
    "df.loc[8979, col] = '西新井大師西駅'\n",
    "df.loc[9661, col] = '西新井大師西駅'\n",
    "df.loc[12681, col] = '八潮駅'\n",
    "df.loc[18340, col] = '八潮駅'\n",
    "df.loc[19394, col] = '仙川駅'\n",
    "df.loc[19927, col] = '仙川駅'\n",
    "df.loc[23470, col] = '新小岩駅'\n",
    "df.loc[25446, col] = '志村三丁目駅'\n",
    "df.loc[32832, col] = '仙川駅'\n",
    "df.loc[32907, col] = '八潮駅'\n",
    "df.loc[35918, col] = '千川駅'\n",
    "df.loc[36331, col] = '大泉学園駅'\n",
    "df.loc[38358, col] = '八潮駅'\n",
    "df.loc[39702, col] = '仙川駅'\n",
    "df.loc[40151, col] = '八潮駅'\n",
    "df.loc[41485, col] = '千歳烏山駅'\n",
    "df.loc[42060, col] = '仙川駅'\n",
    "df.loc[44711, col] = '八潮駅'\n",
    "df.loc[48243, col] = '王子駅'\n",
    "df.loc[49879, col] = '八潮駅'\n",
    "df.loc[54136, col] = '仙川駅'\n",
    "df.loc[58322, col] = '浮間舟渡駅'\n",
    "df.loc[58727, col] = '仙川駅'\n",
    "df.loc[59459, col] = '八潮駅'\n",
    "df.loc[61075, col] = '谷塚駅'\n",
    "## ------最寄り駅修正------\n",
    "df = get_manshon(df,'nearest_sta')"
   ]
  },
  {
   "cell_type": "code",
   "execution_count": 48,
   "metadata": {},
   "outputs": [],
   "source": [
    "def get_tokyo_station(df, load_mode=True):\n",
    "    '''\n",
    "    利用可能駅数と路線数を取得\n",
    "    '''\n",
    "    # 座標系変換\n",
    "    from joblib import Parallel, delayed\n",
    "    # 駅の位置を取得\n",
    "    tokyo_station = pd.read_csv('../hutagami/data/tokyo_station.csv', index_col='Unnamed: 0')\n",
    "    xy = pd.read_csv('../hutagami/data/location_xy.csv', index_col='index')\n",
    "    xy.index = range(1, len(xy)+1)\n",
    "    df['x'] = xy['x'].loc[df['id'].values].values\n",
    "    df['y'] = xy['y'].loc[df['id'].values].values\n",
    "        \n",
    "    # ここからが処理\n",
    "    # 利用可能駅数と路線数\n",
    "    def in_distance(df_i, com_df=tokyo_station, distance=1000):\n",
    "        y = df_i[0]\n",
    "        x = df_i[1]\n",
    "        # xyで範囲内に入っているもののみをカウント\n",
    "        cond = np.sqrt((com_df['x'] - x)**2 + (com_df['y'] - y)**2)\n",
    "        com_ = com_df[cond < distance]\n",
    "        cond_ = cond[cond < distance]\n",
    "        min_index = cond_[cond_==cond_.min()].index\n",
    "\n",
    "        avail_station = len(com_['N02_005'].unique())\n",
    "        avail_root = len(com_['N02_003'].unique())\n",
    "        min_distance = cond_.min()\n",
    "        nearest_station_size = (list(com_df.loc[min_index, '駅のサイズ(路線数)'])+[0])[0]\n",
    "        max_station_size = com_['駅のサイズ(路線数)'].max()\n",
    "        nearest_station_people = (list(com_df.loc[min_index, '乗降人数'])+[0])[0]\n",
    "        max_station_people = com_['乗降人数'].max()\n",
    "\n",
    "        return avail_station, avail_root, min_distance, nearest_station_size, max_station_size, nearest_station_people, max_station_people\n",
    "\n",
    "    df_i = df[['y', 'x']].apply(lambda x: (x[0], x[1]), axis=1)\n",
    "    res = Parallel(n_jobs=6)([delayed(in_distance)(i) for i in df_i])\n",
    "    \n",
    "    df['利用可能駅数']= np.array(res)[:, 0]\n",
    "    df['利用可能路線数']= np.array(res)[:, 1]\n",
    "    df['最短駅m']= np.array(res)[:, 2]\n",
    "    df['最短駅路線数']= np.array(res)[:, 3]\n",
    "    df['利用可能駅最大路線数']= np.array(res)[:, 4]\n",
    "    df['最短駅乗降人数']= np.array(res)[:, 5]\n",
    "    df['利用可能駅最大乗降人数']= np.array(res)[:, 6]\n",
    "    \n",
    "    return df"
   ]
  },
  {
   "cell_type": "code",
   "execution_count": 49,
   "metadata": {},
   "outputs": [],
   "source": [
    "def get_landprice(df, k=3):\n",
    "    '''\n",
    "    地価のk近傍点を取得\n",
    "    '''\n",
    "    import geopandas as gpd\n",
    "    from sklearn.neighbors import KNeighborsRegressor\n",
    "    \n",
    "    # 地価データを取得して、緯度経度と地価データのみを抽出\n",
    "    fnames = [\"../hutagami/data/L01-18_%s.geojson\"%i for i in ['08', '11', '12', '13', '14']]\n",
    "    geo_df = pd.DataFrame(columns=['地価(単位面積)', 'loc_lat', 'loc_lon'])\n",
    "    for fname in fnames:\n",
    "        geo = gpd.read_file(fname)\n",
    "        #sample = pd.DataFrame((geo['L01_006'].astype(int) * geo['L01_024'].astype(int)), columns=['地価'])\n",
    "        sample = pd.DataFrame(geo['L01_006'].astype(int).values, columns=['地価(単位面積)'])\n",
    "        sample['geometry'] = geo['geometry']\n",
    "        sample['lonlat'] = sample['geometry'].astype(str).str.replace('POINT ', '').str.replace('(', '').str.replace(')', '').str.split(' ')\n",
    "        sample['loc_lat'] = sample['lonlat'].map(lambda x: float(x[1]))\n",
    "        sample['loc_lon'] = sample['lonlat'].map(lambda x: float(x[0]))\n",
    "        sample = sample[['地価(単位面積)', 'loc_lat', 'loc_lon']]\n",
    "        geo_df = pd.concat([geo_df, sample], axis=0).reset_index(drop=True)\n",
    "        \n",
    "    fnames = [\"../hutagami/data/L02-18_%s.geojson\"%i for i in ['08', '11', '12', '13', '14']]\n",
    "    #geo_df = pd.DataFrame(columns=['地価(単位面積)', 'loc_lat', 'loc_lon'])\n",
    "    for fname in fnames:\n",
    "        geo = gpd.read_file(fname)\n",
    "        #sample = pd.DataFrame((geo['L01_006'].astype(int) * geo['L01_024'].astype(int)), columns=['地価'])\n",
    "        sample = pd.DataFrame(geo['L02_006'].astype(int).values, columns=['地価(単位面積)'])\n",
    "        sample['geometry'] = geo['geometry']\n",
    "        sample['lonlat'] = sample['geometry'].astype(str).str.replace('POINT ', '').str.replace('(', '').str.replace(')', '').str.split(' ')\n",
    "        sample['loc_lat'] = sample['lonlat'].map(lambda x: float(x[1]))\n",
    "        sample['loc_lon'] = sample['lonlat'].map(lambda x: float(x[0]))\n",
    "        sample = sample[['地価(単位面積)', 'loc_lat', 'loc_lon']]\n",
    "        geo_df = pd.concat([geo_df, sample], axis=0).reset_index(drop=True)\n",
    "    \n",
    "    print(len(geo_df))\n",
    "         \n",
    "    n_neighbors = k # default=5\n",
    "    # 距離によって重み付けするか\n",
    "    #weights = 'uniform' # しない\n",
    "    weights = 'distance' # する\n",
    "    \n",
    "    knn = KNeighborsRegressor(n_neighbors=n_neighbors, weights=weights)\n",
    "    knn.fit(geo_df.drop(['地価(単位面積)'], axis=1), geo_df['地価(単位面積)'])\n",
    "    \n",
    "    res = knn.kneighbors(df[['loc_lat', 'loc_lon']], n_neighbors, return_distance=False)\n",
    "    res = geo_df['地価(単位面積)'].loc[res.flatten()].values.flatten().reshape(res.shape).astype(int)\n",
    "    res = pd.DataFrame(res, columns=['地価(単位面積)_neighbor_%s'%(i+1) for i in range(n_neighbors)], index=df.index).astype(float)\n",
    "    for i in range(n_neighbors):\n",
    "        res['地価_neighbor_%s'%(i+1)] = (res['地価(単位面積)_neighbor_%s'%(i+1)] * df['面積']).astype(float)\n",
    "        \n",
    "    res['地価_neighbor_mean'] = res[['地価_neighbor_%s'%(i+1) for i in range(n_neighbors)]].mean(axis=1).astype(float)\n",
    "    res['地価_neighbor_std'] = res[['地価_neighbor_%s'%(i+1) for i in range(n_neighbors)]].std(axis=1).astype(float)\n",
    "    res['地価(単位面積)_neighbor_mean'] = res[['地価(単位面積)_neighbor_%s'%(i+1) for i in range(n_neighbors)]].mean(axis=1).astype(float)\n",
    "    res['地価(単位面積)_neighbor_std'] = res[['地価(単位面積)_neighbor_%s'%(i+1) for i in range(n_neighbors)]].std(axis=1).astype(float)\n",
    "    \n",
    "    df = pd.concat([df, res], axis=1)\n",
    "    \n",
    "    return df"
   ]
  },
  {
   "cell_type": "code",
   "execution_count": 50,
   "metadata": {},
   "outputs": [
    {
     "name": "stdout",
     "output_type": "stream",
     "text": [
      "12043\n",
      "CPU times: user 12.8 s, sys: 221 ms, total: 13 s\n",
      "Wall time: 40.2 s\n"
     ]
    }
   ],
   "source": [
    "%%time\n",
    "df = get_landprice(df)\n",
    "df = get_tokyo_station(df)"
   ]
  },
  {
   "cell_type": "code",
   "execution_count": 53,
   "metadata": {},
   "outputs": [],
   "source": [
    "train=df[~df['賃料'].isnull()]\n",
    "test=df[df['賃料'].isnull()]"
   ]
  },
  {
   "cell_type": "code",
   "execution_count": 54,
   "metadata": {},
   "outputs": [],
   "source": [
    "train.loc[train['id']==7492,'面積']=51.83\n",
    "train.loc[train['id']==5776,'賃料']/=10\n",
    "train = train[train['築年数']<6000]\n",
    "train = train[train['面積']<400]"
   ]
  },
  {
   "cell_type": "code",
   "execution_count": 55,
   "metadata": {},
   "outputs": [],
   "source": [
    "train.to_csv('./input/prep_train1107.csv',index=None)\n",
    "test.to_csv('./input/prep_test1107.csv',index=None)"
   ]
  },
  {
   "cell_type": "code",
   "execution_count": null,
   "metadata": {},
   "outputs": [],
   "source": []
  }
 ],
 "metadata": {
  "file_extension": ".py",
  "kernelspec": {
   "display_name": "Python 3",
   "language": "python",
   "name": "python3"
  },
  "language_info": {
   "codemirror_mode": {
    "name": "ipython",
    "version": 3
   },
   "file_extension": ".py",
   "mimetype": "text/x-python",
   "name": "python",
   "nbconvert_exporter": "python",
   "pygments_lexer": "ipython3",
   "version": "3.6.8"
  },
  "mimetype": "text/x-python",
  "name": "python",
  "npconvert_exporter": "python",
  "pygments_lexer": "ipython3",
  "version": 3
 },
 "nbformat": 4,
 "nbformat_minor": 4
}
