{
 "cells": [
  {
   "cell_type": "code",
   "execution_count": 1,
   "metadata": {},
   "outputs": [],
   "source": [
    "# fig=plt.figure(figsize=(10,8))\n",
    "# ax1=fig.add_subplot(221)\n",
    "# ax2=fig.add_subplot(222)\n",
    "# ax3=fig.add_subplot(223)\n",
    "# ax4=fig.add_subplot(224)\n",
    "\n",
    "# ax1.hist(train.groupby('')['地価'].std().sort_values(),bins='auto')\n",
    "# ax2.hist(train.groupby('km_type_with_age')['賃料'].std().sort_values(),bins='auto')\n",
    "# ax1.set_title('地価のstd')\n",
    "# ax2.set_title('賃料のstd')\n",
    "\n",
    "\n",
    "# ax3.hist(train.groupby('km_type_with_age')['地価'].mean().sort_values(),bins='auto')\n",
    "# ax4.hist(train.groupby('km_type_with_age')['賃料'].mean().sort_values(),bins='auto')\n",
    "# ax3.set_title('地価のmean')\n",
    "# ax4.set_title('賃料のmean')\n",
    "\n",
    "# plt.tight_layout()\n",
    "# plt.show()"
   ]
  },
  {
   "cell_type": "code",
   "execution_count": null,
   "metadata": {},
   "outputs": [],
   "source": [
    "# px.set_mapbox_access_token('pk.eyJ1IjoiemVyZWJvbSIsImEiOiJjanpjY2JkZWUwMHMwM2RwNmQyanM2cHg4In0.VvajXw6UybbJhgp_-fHeYw')\n",
    "# fig = px.scatter_mapbox(train.sample(5000), lat=\"loc_lat\", lon=\"loc_lon\",  color=\"km_type_with_age\", size=\"築年数\",text='賃料',\n",
    "#                   color_continuous_scale=px.colors.sequential.Viridis, size_max=30, zoom=10)\n",
    "# fig.show()"
   ]
  }
 ],
 "metadata": {
  "kernelspec": {
   "display_name": "Python 3",
   "language": "python",
   "name": "python3"
  },
  "language_info": {
   "codemirror_mode": {
    "name": "ipython",
    "version": 3
   },
   "file_extension": ".py",
   "mimetype": "text/x-python",
   "name": "python",
   "nbconvert_exporter": "python",
   "pygments_lexer": "ipython3",
   "version": "3.6.8"
  }
 },
 "nbformat": 4,
 "nbformat_minor": 4
}
