{
 "cells": [
  {
   "cell_type": "markdown",
   "metadata": {},
   "source": [
    "### 平均地価との差分等を加えていく\n",
    "LogRegressionPredictor...logを取ってクロスバリデーションで学習してくれるクラス  \n",
    "save_data...trainの予測値と,testの予測値をいつも同じ形で保存するための関数  "
   ]
  },
  {
   "cell_type": "code",
   "execution_count": 137,
   "metadata": {},
   "outputs": [],
   "source": [
    "import numpy as np\n",
    "import pandas as pd\n",
    "import scipy as sp\n",
    "from scipy import stats\n",
    "from scipy.stats import norm, skew\n",
    "import matplotlib.pyplot as plt\n",
    "import pandas as pd\n",
    "from pathlib import Path\n",
    "import datetime\n",
    "import seaborn as sns\n",
    "sns.set()\n",
    "import matplotlib\n",
    "\n",
    "pd.set_option('max_columns',1000)\n",
    "pd.set_option('max_rows',1000)\n",
    "\n",
    "\n",
    "import warnings\n",
    "warnings.filterwarnings('ignore')\n",
    "\n",
    "import re\n",
    "import geocoder\n",
    "from geopy.distance import great_circle, vincenty\n",
    "from tqdm import tqdm\n",
    "from sklearn.metrics import r2_score\n",
    "from sklearn.metrics import mean_squared_error\n",
    "import os\n",
    "import gc\n",
    "import lightgbm as lgb\n",
    "from sklearn.model_selection import KFold, train_test_split\n",
    "from time import time\n",
    "import datetime\n",
    "from script import RegressionPredictor,LogRegressionPredictor\n",
    "import japanize_matplotlib\n",
    "from utils import save_data\n",
    "from sklearn.cluster import KMeans\n",
    "from sklearn.preprocessing import StandardScaler\n",
    "SEED=1234\n",
    "n_splits=10\n",
    "import plotly.express as px\n"
   ]
  },
  {
   "cell_type": "code",
   "execution_count": 138,
   "metadata": {},
   "outputs": [],
   "source": [
    "train=pd.read_csv('./input/prep_train1106.csv')\n",
    "test=pd.read_csv('./input/prep_test1106.csv')\n",
    "y_train = train['賃料']"
   ]
  },
  {
   "cell_type": "code",
   "execution_count": 139,
   "metadata": {},
   "outputs": [],
   "source": [
    "drop_col = ['id']\n",
    "\n",
    "## 必要な特徴量に絞る\n",
    "y_train = train['賃料']\n",
    "y_train_log = np.log1p(y_train)\n",
    "X_train = train.drop(drop_col,axis=1)\n",
    "X_test = test.drop(drop_col,axis=1)"
   ]
  },
  {
   "cell_type": "markdown",
   "metadata": {},
   "source": [
    "### clustering"
   ]
  },
  {
   "cell_type": "code",
   "execution_count": 140,
   "metadata": {},
   "outputs": [],
   "source": [
    "# train,test =get_Kmeans(train,test)"
   ]
  },
  {
   "cell_type": "code",
   "execution_count": 141,
   "metadata": {},
   "outputs": [],
   "source": [
    "# train.to_csv('./input/prep_train1105.csv',index=None)\n",
    "# test.to_csv('./input/prep_test1105.csv',index=None)"
   ]
  },
  {
   "cell_type": "code",
   "execution_count": 142,
   "metadata": {},
   "outputs": [],
   "source": [
    "train['地価']=train['賃料']/train['面積']"
   ]
  },
  {
   "cell_type": "code",
   "execution_count": 143,
   "metadata": {},
   "outputs": [],
   "source": [
    "def get_loc_type(data,out_col='loc_type'):\n",
    "    '''緯度経度による、グリッドを作成'''\n",
    "    data2=data.copy()\n",
    "    data2[out_col]=0\n",
    "    count=0\n",
    "    for i in range(1,12):\n",
    "        for j in range(11):\n",
    "            data2.loc[data2.query(f'139.56+{i*0.03}<loc_lon<139.56+{(i+1)*0.03}&35.53+{j*0.03}<loc_lat<35.53+{(j+i)*0.03}').index.values,out_col]=count\n",
    "            print(count,end='')\n",
    "            print(data2.query(f'139.56+{i*0.03}<loc_lon<139.56+{(i+1)*0.03}&35.53+{j*0.03}<loc_lat<35.53+{(j+i)*0.03}').index.shape)\n",
    "            count+=1\n",
    "    return data2\n",
    "\n",
    "# X_train['loc_type']=get_loc_type(X_train)\n",
    "# X_test['loc_type']=get_loc_type(X_test)"
   ]
  },
  {
   "cell_type": "code",
   "execution_count": 144,
   "metadata": {},
   "outputs": [],
   "source": [
    "def get_Kmeans(X_train,X_test,n_clusters=300,cols=['loc_lat','loc_lon','築年数'],out_col='km_type_with_age'):\n",
    "    std=StandardScaler()\n",
    "    \n",
    "    X = X_train[cols]\n",
    "    X2= X_test[cols]\n",
    "    Z=pd.concat([X,X2],axis=0)\n",
    "    Z=std.fit_transform(Z)\n",
    "\n",
    "    pred = KMeans(n_clusters=n_clusters).fit_predict(Z)\n",
    "    X_train[out_col]=pred[:X_train.shape[0]]\n",
    "    X_test[out_col]=pred[X_train.shape[0]:]\n",
    "    return X_train,X_test"
   ]
  },
  {
   "cell_type": "code",
   "execution_count": 145,
   "metadata": {},
   "outputs": [],
   "source": [
    "# X_train,X_test =get_Kmeans(X_train,X_test)"
   ]
  },
  {
   "cell_type": "code",
   "execution_count": 146,
   "metadata": {},
   "outputs": [],
   "source": [
    "def get_k_neighbor(df, k=10, cols=['loc_lat', 'loc_lon', '築年数']):\n",
    "    '''\n",
    "    k近傍点を取得\n",
    "    '''\n",
    "    from sklearn.neighbors import KNeighborsRegressor\n",
    "    from sklearn.preprocessing import minmax_scale\n",
    "\n",
    "    df_train = df.query('id <= @id_max')\n",
    "    df_test = df.query('id > @id_max')\n",
    "\n",
    "    df_train_k = pd.DataFrame()\n",
    "    df_test_k = pd.DataFrame()\n",
    "\n",
    "    for col in cols:\n",
    "        df_train_k[col] = minmax_scale(df_train[col].values)\n",
    "        df_test_k[col] = minmax_scale(df_test[col].values)\n",
    "\n",
    "    df_train_k['target'] = df_train['賃料'].values\n",
    "    df_train_k['target_per'] = df_train['賃料'].values/df_train['面積'].values\n",
    "\n",
    "    df_train_k = df_train_k.drop_duplicates(subset=cols).dropna()\n",
    "    df_train_k = df_train_k[df_train_k['target_per']!=np.inf]\n",
    "    df_train_k = df_train_k.reset_index(drop=True)\n",
    "\n",
    "    n_neighbors = k # default=5\n",
    "    # 距離によって重み付けするか\n",
    "    weights = 'distance' # する\n",
    "\n",
    "    knn = KNeighborsRegressor(n_neighbors=n_neighbors, weights=weights)\n",
    "    knn.fit(df_train_k.drop(['target', 'target_per'], axis=1), df_train_k['target'])\n",
    "\n",
    "    df_train_test = df[cols].copy()\n",
    "\n",
    "    r = knn.kneighbors(df_train_test, n_neighbors, return_distance=False)\n",
    "    r_ = df_train_k['target'].loc[r.flatten()].values.flatten().reshape(r.shape)\n",
    "    r_per = df_train_k['target_per'].loc[r.flatten()].values.flatten().reshape(r.shape)\n",
    "\n",
    "    res = pd.DataFrame(r_, columns=['賃料_neighbor_%s'%(i+1) for i in range(n_neighbors)], index=df_train_test.index)\n",
    "    res_per = pd.DataFrame(r_per, columns=['単位面積賃料_neighbor_%s'%(i+1) for i in range(n_neighbors)], index=df_train_test.index)\n",
    "\n",
    "    result = pd.concat([res, res_per], axis=1)\n",
    "    result.index = df.index\n",
    "    result['賃料_neighbor_mean'] = result[['賃料_neighbor_%s'%(i+1) for i in range(n_neighbors)]].mean(axis=1)\n",
    "    result['賃料_neighbor_std'] = result[['賃料_neighbor_%s'%(i+1) for i in range(n_neighbors)]].std(axis=1)\n",
    "    result['単位面積賃料_neighbor_mean'] = result[['単位面積賃料_neighbor_%s'%(i+1) for i in range(n_neighbors)]].mean(axis=1)\n",
    "    result['単位面積賃料_neighbor_std'] = result[['単位面積賃料_neighbor_%s'%(i+1) for i in range(n_neighbors)]].std(axis=1)\n",
    "    result['単位面積賃料_neighbor_mean'] = result[['単位面積賃料_neighbor_%s'%(i+1) for i in range(n_neighbors)]].mean(axis=1)\n",
    "    result['単位面積賃料_neighbor_std'] = result[['単位面積賃料_neighbor_%s'%(i+1) for i in range(n_neighbors)]].std(axis=1)\n",
    "\n",
    "    df = pd.concat([df, result], axis=1)\n",
    "\n",
    "    return df"
   ]
  },
  {
   "cell_type": "code",
   "execution_count": 147,
   "metadata": {},
   "outputs": [],
   "source": [
    "# import plotly.express as px\n",
    "\n",
    "# px.set_mapbox_access_token('pk.eyJ1IjoiemVyZWJvbSIsImEiOiJjanpjY2JkZWUwMHMwM2RwNmQyanM2cHg4In0.VvajXw6UybbJhgp_-fHeYw')\n",
    "# fig = px.scatter_mapbox(mini_train, lat=\"loc_lat\", lon=\"loc_lon\",  color=\"km_type_with_age\", size=\"賃料\",text='id',\n",
    "#                   color_continuous_scale=px.colors.sequential.Viridis, size_max=30, zoom=10)\n",
    "# fig.show()"
   ]
  },
  {
   "cell_type": "markdown",
   "metadata": {},
   "source": [
    "### target/feature_encoding \n"
   ]
  },
  {
   "cell_type": "code",
   "execution_count": 148,
   "metadata": {},
   "outputs": [],
   "source": [
    "def feature_encoding(train, test, category_col, target_col, func_list):\n",
    "    '''target_encodingを重要な列（面積など）でやる。TEと違って、test_dfに含まれる値も集計して作る'''\n",
    "    data=pd.concat([train,test],axis=0).reset_index()\n",
    "    \n",
    "    agg_func = {target_col: func_list}\n",
    "    #agg_funcでgruopby\n",
    "    agg_df = data.groupby(category_col)[target_col].agg(agg_func)\n",
    "    #列名作成\n",
    "    agg_df.columns = [category_col + '_' + '_'.join(col).strip() for col in agg_df.columns.values]\n",
    "    #元の列に集約結果をmapしその値をコピーし新規列に加え返す。\n",
    "    for col in agg_df.columns.values:\n",
    "        train[col] = train[category_col].map(agg_df[col]).copy()\n",
    "        test[col] = test[category_col].map(agg_df[col]).copy()\n",
    "    return train, test\n",
    "\n",
    "def target_encoding(train, test, category_col, target_col, func_list):\n",
    "    '''target_encodingをやる。func_listに辞書型で列と処理する関数(meanとか)を渡す'''\n",
    "    \n",
    "    agg_func = {target_col: func_list}\n",
    "    #agg_funcでgruopby\n",
    "    agg_df = train.groupby(category_col)[target_col].agg(agg_func)\n",
    "    #列名作成\n",
    "    agg_df.columns = [category_col + '_' + '_'.join(col).strip() for col in agg_df.columns.values]\n",
    "    #元の列に集約結果をmapしその値をコピーし新規列に加え返す。\n",
    "    for col in agg_df.columns.values:\n",
    "        train[col] = train[category_col].map(agg_df[col]).copy()\n",
    "        test[col] = test[category_col].map(agg_df[col]).copy()\n",
    "    return train, test"
   ]
  },
  {
   "cell_type": "code",
   "execution_count": 149,
   "metadata": {},
   "outputs": [],
   "source": [
    "category_col='km_type_with_age'\n",
    "X_train['地価'] = X_train['賃料'] / X_train['面積']\n",
    "target_dict = {category_col: ['mean']}\n",
    "\n",
    "for category_col, func_list in target_dict.items():\n",
    "    X_train, X_test = feature_encoding(X_train, X_test, category_col, '面積', func_list)\n",
    "    X_train, X_test = feature_encoding(X_train, X_test, category_col, '築年数', func_list)\n",
    "#     X_train, X_test = target_encoding(X_train, X_test, category_col, '賃料', func_list)\n",
    "\n",
    "target_dict = {category_col: ['mean','max','min','count']}\n",
    "for category_col, func_list in target_dict.items():\n",
    "    X_train, X_test = target_encoding(X_train, X_test, category_col, '地価', func_list)\n",
    "    \n",
    "# X_train['地価x面積'] = X_train['面積'] * X_train[f'{category_col}_地価_mean']\n",
    "# X_test['地価x面積'] = X_test['面積'] * X_test[f'{category_col}_地価_mean']\n",
    "# X_train['地価x面積_max'] = X_train['面積'] * X_train[f'{category_col}_地価_max']\n",
    "# X_test['地価x面積_max'] = X_test['面積'] * X_test[f'{category_col}_地価_max']\n",
    "# X_train['地価x面積_min'] = X_train['面積'] * X_train[f'{category_col}_地価_min']\n",
    "# X_test['地価x面積_min'] = X_test['面積'] * X_test[f'{category_col}_地価_min']\n",
    "\n",
    "X_train['area_diff'] = X_train['面積'] - X_train[f'{category_col}_面積_mean']\n",
    "X_train['area_ratio'] = X_train['面積'] / X_train[f'{category_col}_面積_mean']\n",
    "X_test['area_diff'] = X_test['面積'] - X_test[f'{category_col}_面積_mean']\n",
    "X_test['area_ratio'] = X_test['面積'] / X_test[f'{category_col}_面積_mean']\n",
    "\n",
    "X_train['age_diff'] = X_train['築年数'] - X_train[f'{category_col}_築年数_mean']\n",
    "X_train['age_ratio'] = X_train['築年数'] / X_train[f'{category_col}_築年数_mean']\n",
    "X_test['age_diff'] = X_test['築年数'] - X_test[f'{category_col}_築年数_mean']\n",
    "X_test['age_ratio'] = X_test['築年数'] / X_test[f'{category_col}_築年数_mean']\n",
    "\n",
    "X_train['area/ageratio'] = X_train['area_ratio'] / X_train['age_ratio']\n",
    "X_test['area/ageratio'] = X_test['area_ratio'] / X_test['age_ratio']\n",
    "\n",
    "X_train['地価x面積'] = X_train['面積'] * X_train[f'{category_col}_地価_mean']\n",
    "X_test['地価x面積'] = X_test['面積'] * X_test[f'{category_col}_地価_mean']\n",
    "X_train['地価x面積/築年数ratio'] = X_train['地価x面積'] / X_train['age_ratio']\n",
    "X_test['地価x面積/築年数ratio'] = X_test['地価x面積'] / X_test['age_ratio']"
   ]
  },
  {
   "cell_type": "markdown",
   "metadata": {},
   "source": [
    "### 学習準備"
   ]
  },
  {
   "cell_type": "code",
   "execution_count": 150,
   "metadata": {},
   "outputs": [],
   "source": [
    "lgbm_params = {\n",
    "    'num_iterations': 50000,\n",
    "    'learning_rate': 0.01,\n",
    "    'boosting_type': 'gbdt',\n",
    "    'objective': 'regression',\n",
    "    'metric': 'rmse',\n",
    "    'reg_lambda': 68.19849585036235,\n",
    "    'reg_alpha': 0.007585940082730346,\n",
    "    'colsample_bytree': 0.6,\n",
    "    'subsample': 0.5,\n",
    "    'max_depth': 8,\n",
    "    'min_child_weight': 8,\n",
    "    'lambda': 1,\n",
    "    'eta': 0.1,\n",
    "    'verbose': 1,\n",
    "    'random_state': 0,\n",
    "    'early_stopping_round': 100\n",
    "    }\n",
    "\n",
    "lgbm_log_params=lgbm_params.copy()\n",
    "lgbm_log_params['metric']='mae'\n",
    "lgbm_log_params['learning_rate']=0.05\n",
    "\n",
    "lgbm_x_params=lgbm_params.copy()\n",
    "lgbm_x_params['metric']='cross_entropy'\n",
    "lgbm_x_params['learning_rate']=0.05"
   ]
  },
  {
   "cell_type": "code",
   "execution_count": 151,
   "metadata": {},
   "outputs": [],
   "source": [
    "X_train_raw=X_train.copy()\n",
    "X_test_raw=X_test.copy()"
   ]
  },
  {
   "cell_type": "code",
   "execution_count": 153,
   "metadata": {},
   "outputs": [],
   "source": [
    "\n",
    "X_train=X_train_raw.copy()\n",
    "X_test_=X_test_raw.copy()\n",
    "# features =  ['面積','築年数','sta_min','center_dis','L','loc_lat','loc_lon','総階数','畳','所在階','loc_type_地価_mean',\n",
    "#              '地価x面積', 'area_diff','area_ratio', 'age_diff', 'age_ratio','area/ageratio', '地価x面積/築年数ratio']\n",
    "\n",
    "features =  ['面積','築年数','sta_min','center_dis','L','loc_lat','loc_lon','総階数','畳','所在階','km_type_with_age_地価_mean',  '地価x面積', 'area_diff',\n",
    "       'area_ratio', 'age_diff', 'age_ratio',\n",
    "       'area/ageratio', '地価x面積/築年数ratio','1m2当たりの価格','鑑定評価額']\n",
    "\n",
    "X_train = X_train[features]\n",
    "X_test = X_test[features]"
   ]
  },
  {
   "cell_type": "code",
   "execution_count": 161,
   "metadata": {},
   "outputs": [],
   "source": [
    "save=False\n",
    "if save:\n",
    "    X_train['id']=train['id']\n",
    "    X_test['id']=test['id']\n",
    "    X_train['賃料']=y_train\n",
    "    X_train.to_csv('./psuedo/X_train1107.csv',index=None)\n",
    "    X_test.to_csv('./psuedo/X_test1107.csv',index=None)\n",
    "    X_train=X_train.drop(columns='賃料')"
   ]
  },
  {
   "cell_type": "code",
   "execution_count": 154,
   "metadata": {},
   "outputs": [],
   "source": [
    "#RegressionPredictorに渡す↓\n",
    "folder=KFold(n_splits=10, shuffle=True, random_state=421)"
   ]
  },
  {
   "cell_type": "markdown",
   "metadata": {},
   "source": [
    "### xent_predict"
   ]
  },
  {
   "cell_type": "code",
   "execution_count": 155,
   "metadata": {},
   "outputs": [],
   "source": [
    "# xent_func= lambda x:np.log1p(x)/np.log1p(x.max())\n",
    "# xent_refunc= lambda x:np.expm1(x*14.731801689838349)\n",
    "\n",
    "# XLGBM = LogRegressionPredictor(X_train, y_train, X_test, Folder=folder, params=lgbm_x_params,\n",
    "#                                       sk_model=None, n_splits=10, clf_type='lgb',func=xent_func,revert_func=xent_refunc)\n",
    "# xlgboof, xlgbpreds, xlgbFIs = XLGBM.fit()\n",
    "# XLGBM.plot_FI(50)\n",
    "# XLGBM.plot_pred_dist()\n",
    "# XLGBM.plot_scatter_oofvspred()"
   ]
  },
  {
   "cell_type": "code",
   "execution_count": 156,
   "metadata": {},
   "outputs": [],
   "source": [
    "# save_data(X_train,xlgboof, xlgbpreds,rmse=XLGBM.rmse(),name='xent_tika_km_col',save_dir='./stacking')"
   ]
  },
  {
   "cell_type": "markdown",
   "metadata": {},
   "source": [
    "### normal_predict"
   ]
  },
  {
   "cell_type": "code",
   "execution_count": 157,
   "metadata": {},
   "outputs": [],
   "source": [
    "# LGBM = RegressionPredictor(X_train, y_train.values, X_test, Folder=folder, params=lgbm_params,\n",
    "#                                       sk_model=None, n_splits=10, clf_type='lgb')\n",
    "# lgboof, lgbpreds, lgbFIs = LGBM.fit()\n",
    "# LGBM.plot_FI(50)\n",
    "# LGBM.plot_pred_dist()\n",
    "# LGBM.plot_scatter_oofvspred()"
   ]
  },
  {
   "cell_type": "code",
   "execution_count": 158,
   "metadata": {},
   "outputs": [],
   "source": [
    "# save_data(X_train,lgboof, lgbpreds,rmse=LGBM.rmse(),name='tika_kmcol',save_dir='./stacking')"
   ]
  },
  {
   "cell_type": "markdown",
   "metadata": {},
   "source": [
    "### log_predict\n",
    "今一番精度がいいのがこれ"
   ]
  },
  {
   "cell_type": "code",
   "execution_count": 159,
   "metadata": {},
   "outputs": [
    {
     "name": "stdout",
     "output_type": "stream",
     "text": [
      "Training on fold 1\n",
      "Training until validation scores don't improve for 100 rounds.\n",
      "[5000]\ttraining's l1: 0.0178436\tvalid_1's l1: 0.0532828\n",
      "[10000]\ttraining's l1: 0.00832152\tvalid_1's l1: 0.050386\n",
      "[15000]\ttraining's l1: 0.00478576\tvalid_1's l1: 0.0494568\n",
      "[20000]\ttraining's l1: 0.00315016\tvalid_1's l1: 0.0490399\n",
      "[25000]\ttraining's l1: 0.00227938\tvalid_1's l1: 0.0488341\n",
      "[30000]\ttraining's l1: 0.0017622\tvalid_1's l1: 0.0487105\n",
      "Early stopping, best iteration is:\n",
      "[31820]\ttraining's l1: 0.00162695\tvalid_1's l1: 0.04868\n"
     ]
    },
    {
     "ename": "KeyboardInterrupt",
     "evalue": "",
     "output_type": "error",
     "traceback": [
      "\u001b[0;31m---------------------------------------------------------------------------\u001b[0m",
      "\u001b[0;31mKeyboardInterrupt\u001b[0m                         Traceback (most recent call last)",
      "\u001b[0;32m<ipython-input-159-0c184a6ab603>\u001b[0m in \u001b[0;36m<module>\u001b[0;34m\u001b[0m\n\u001b[1;32m      1\u001b[0m LogLGBM = LogRegressionPredictor(X_train, y_train.values, X_test, Folder=folder, params=lgbm_log_params,\n\u001b[1;32m      2\u001b[0m                                       sk_model=None, n_splits=10, clf_type='lgb')\n\u001b[0;32m----> 3\u001b[0;31m \u001b[0mlog_lgboof\u001b[0m\u001b[0;34m,\u001b[0m \u001b[0mlog_lgbpreds\u001b[0m\u001b[0;34m,\u001b[0m \u001b[0mlog_lgbFIs\u001b[0m \u001b[0;34m=\u001b[0m \u001b[0mLogLGBM\u001b[0m\u001b[0;34m.\u001b[0m\u001b[0mfit\u001b[0m\u001b[0;34m(\u001b[0m\u001b[0;34m)\u001b[0m\u001b[0;34m\u001b[0m\u001b[0;34m\u001b[0m\u001b[0m\n\u001b[0m\u001b[1;32m      4\u001b[0m \u001b[0mLogLGBM\u001b[0m\u001b[0;34m.\u001b[0m\u001b[0mplot_FI\u001b[0m\u001b[0;34m(\u001b[0m\u001b[0;36m50\u001b[0m\u001b[0;34m)\u001b[0m\u001b[0;34m\u001b[0m\u001b[0;34m\u001b[0m\u001b[0m\n\u001b[1;32m      5\u001b[0m \u001b[0mLogLGBM\u001b[0m\u001b[0;34m.\u001b[0m\u001b[0mplot_pred_dist\u001b[0m\u001b[0;34m(\u001b[0m\u001b[0;34m)\u001b[0m\u001b[0;34m\u001b[0m\u001b[0;34m\u001b[0m\u001b[0m\n",
      "\u001b[0;32m~/Desktop/kaggle/team-mynabi/higuchi/script.py\u001b[0m in \u001b[0;36mfit\u001b[0;34m(self)\u001b[0m\n\u001b[1;32m    166\u001b[0m             \u001b[0;32mif\u001b[0m \u001b[0mself\u001b[0m\u001b[0;34m.\u001b[0m\u001b[0maggfunc_dict\u001b[0m \u001b[0;34m!=\u001b[0m \u001b[0;32mNone\u001b[0m\u001b[0;34m:\u001b[0m\u001b[0;34m\u001b[0m\u001b[0;34m\u001b[0m\u001b[0m\n\u001b[1;32m    167\u001b[0m                 \u001b[0mX_train\u001b[0m\u001b[0;34m,\u001b[0m \u001b[0mX_val\u001b[0m \u001b[0;34m=\u001b[0m \u001b[0mself\u001b[0m\u001b[0;34m.\u001b[0m\u001b[0mtarget_encoding\u001b[0m\u001b[0;34m(\u001b[0m\u001b[0mX_train\u001b[0m\u001b[0;34m,\u001b[0m \u001b[0mX_val\u001b[0m\u001b[0;34m,\u001b[0m \u001b[0my_train\u001b[0m\u001b[0;34m)\u001b[0m\u001b[0;34m\u001b[0m\u001b[0;34m\u001b[0m\u001b[0m\n\u001b[0;32m--> 168\u001b[0;31m             \u001b[0mself\u001b[0m\u001b[0;34m.\u001b[0m\u001b[0m_get_cv_model\u001b[0m\u001b[0;34m(\u001b[0m\u001b[0mX_train\u001b[0m\u001b[0;34m,\u001b[0m \u001b[0mX_val\u001b[0m\u001b[0;34m,\u001b[0m \u001b[0my_train\u001b[0m\u001b[0;34m,\u001b[0m \u001b[0my_val\u001b[0m\u001b[0;34m,\u001b[0m \u001b[0mval_idx\u001b[0m\u001b[0;34m)\u001b[0m\u001b[0;34m\u001b[0m\u001b[0;34m\u001b[0m\u001b[0m\n\u001b[0m\u001b[1;32m    169\u001b[0m \u001b[0;34m\u001b[0m\u001b[0m\n\u001b[1;32m    170\u001b[0m         \u001b[0mprint\u001b[0m\u001b[0;34m(\u001b[0m\u001b[0;34m'-'\u001b[0m \u001b[0;34m*\u001b[0m \u001b[0;36m30\u001b[0m\u001b[0;34m)\u001b[0m\u001b[0;34m\u001b[0m\u001b[0;34m\u001b[0m\u001b[0m\n",
      "\u001b[0;32m~/Desktop/kaggle/team-mynabi/higuchi/script.py\u001b[0m in \u001b[0;36m_get_cv_model\u001b[0;34m(self, tr_X, val_X, tr_y, val_y, val_idx)\u001b[0m\n\u001b[1;32m    234\u001b[0m             self.model = lgb.train(self.params, clf_train, valid_sets=[\n\u001b[1;32m    235\u001b[0m                                    clf_train, clf_val], verbose_eval=self.verbose_eval)\n\u001b[0;32m--> 236\u001b[0;31m             \u001b[0mself\u001b[0m\u001b[0;34m.\u001b[0m\u001b[0moof\u001b[0m\u001b[0;34m[\u001b[0m\u001b[0mval_idx\u001b[0m\u001b[0;34m]\u001b[0m \u001b[0;34m=\u001b[0m \u001b[0mself\u001b[0m\u001b[0;34m.\u001b[0m\u001b[0mrevert_func\u001b[0m\u001b[0;34m(\u001b[0m\u001b[0mself\u001b[0m\u001b[0;34m.\u001b[0m\u001b[0mmodel\u001b[0m\u001b[0;34m.\u001b[0m\u001b[0mpredict\u001b[0m\u001b[0;34m(\u001b[0m\u001b[0mval_X\u001b[0m\u001b[0;34m,\u001b[0m \u001b[0mnum_iteration\u001b[0m\u001b[0;34m=\u001b[0m\u001b[0mself\u001b[0m\u001b[0;34m.\u001b[0m\u001b[0mmodel\u001b[0m\u001b[0;34m.\u001b[0m\u001b[0mbest_iteration\u001b[0m\u001b[0;34m)\u001b[0m\u001b[0;34m)\u001b[0m\u001b[0;34m\u001b[0m\u001b[0;34m\u001b[0m\u001b[0m\n\u001b[0m\u001b[1;32m    237\u001b[0m             \u001b[0mself\u001b[0m\u001b[0;34m.\u001b[0m\u001b[0mpreds\u001b[0m \u001b[0;34m+=\u001b[0m \u001b[0mself\u001b[0m\u001b[0;34m.\u001b[0m\u001b[0mrevert_func\u001b[0m\u001b[0;34m(\u001b[0m\u001b[0mself\u001b[0m\u001b[0;34m.\u001b[0m\u001b[0mmodel\u001b[0m\u001b[0;34m.\u001b[0m\u001b[0mpredict\u001b[0m\u001b[0;34m(\u001b[0m\u001b[0mself\u001b[0m\u001b[0;34m.\u001b[0m\u001b[0mtest_X\u001b[0m\u001b[0;34m,\u001b[0m \u001b[0mnum_iteration\u001b[0m\u001b[0;34m=\u001b[0m\u001b[0mself\u001b[0m\u001b[0;34m.\u001b[0m\u001b[0mmodel\u001b[0m\u001b[0;34m.\u001b[0m\u001b[0mbest_iteration\u001b[0m\u001b[0;34m)\u001b[0m\u001b[0;34m)\u001b[0m \u001b[0;34m/\u001b[0m \u001b[0mself\u001b[0m\u001b[0;34m.\u001b[0m\u001b[0mkf\u001b[0m\u001b[0;34m.\u001b[0m\u001b[0mn_splits\u001b[0m\u001b[0;34m\u001b[0m\u001b[0;34m\u001b[0m\u001b[0m\n\u001b[1;32m    238\u001b[0m             \u001b[0mself\u001b[0m\u001b[0;34m.\u001b[0m\u001b[0mFIs\u001b[0m \u001b[0;34m+=\u001b[0m \u001b[0mself\u001b[0m\u001b[0;34m.\u001b[0m\u001b[0mmodel\u001b[0m\u001b[0;34m.\u001b[0m\u001b[0mfeature_importance\u001b[0m\u001b[0;34m(\u001b[0m\u001b[0mimportance_type\u001b[0m\u001b[0;34m=\u001b[0m\u001b[0;34m'gain'\u001b[0m\u001b[0;34m)\u001b[0m\u001b[0;34m\u001b[0m\u001b[0;34m\u001b[0m\u001b[0m\n",
      "\u001b[0;32m~/.local/lib/python3.6/site-packages/lightgbm/basic.py\u001b[0m in \u001b[0;36mpredict\u001b[0;34m(self, data, num_iteration, raw_score, pred_leaf, pred_contrib, data_has_header, is_reshape, **kwargs)\u001b[0m\n\u001b[1;32m   2201\u001b[0m         return predictor.predict(data, num_iteration,\n\u001b[1;32m   2202\u001b[0m                                  \u001b[0mraw_score\u001b[0m\u001b[0;34m,\u001b[0m \u001b[0mpred_leaf\u001b[0m\u001b[0;34m,\u001b[0m \u001b[0mpred_contrib\u001b[0m\u001b[0;34m,\u001b[0m\u001b[0;34m\u001b[0m\u001b[0;34m\u001b[0m\u001b[0m\n\u001b[0;32m-> 2203\u001b[0;31m                                  data_has_header, is_reshape)\n\u001b[0m\u001b[1;32m   2204\u001b[0m \u001b[0;34m\u001b[0m\u001b[0m\n\u001b[1;32m   2205\u001b[0m     \u001b[0;32mdef\u001b[0m \u001b[0mrefit\u001b[0m\u001b[0;34m(\u001b[0m\u001b[0mself\u001b[0m\u001b[0;34m,\u001b[0m \u001b[0mdata\u001b[0m\u001b[0;34m,\u001b[0m \u001b[0mlabel\u001b[0m\u001b[0;34m,\u001b[0m \u001b[0mdecay_rate\u001b[0m\u001b[0;34m=\u001b[0m\u001b[0;36m0.9\u001b[0m\u001b[0;34m,\u001b[0m \u001b[0;34m**\u001b[0m\u001b[0mkwargs\u001b[0m\u001b[0;34m)\u001b[0m\u001b[0;34m:\u001b[0m\u001b[0;34m\u001b[0m\u001b[0;34m\u001b[0m\u001b[0m\n",
      "\u001b[0;32m~/.local/lib/python3.6/site-packages/lightgbm/basic.py\u001b[0m in \u001b[0;36mpredict\u001b[0;34m(self, data, num_iteration, raw_score, pred_leaf, pred_contrib, data_has_header, is_reshape)\u001b[0m\n\u001b[1;32m    465\u001b[0m             \u001b[0mpreds\u001b[0m\u001b[0;34m,\u001b[0m \u001b[0mnrow\u001b[0m \u001b[0;34m=\u001b[0m \u001b[0mself\u001b[0m\u001b[0;34m.\u001b[0m\u001b[0m__pred_for_csc\u001b[0m\u001b[0;34m(\u001b[0m\u001b[0mdata\u001b[0m\u001b[0;34m,\u001b[0m \u001b[0mnum_iteration\u001b[0m\u001b[0;34m,\u001b[0m \u001b[0mpredict_type\u001b[0m\u001b[0;34m)\u001b[0m\u001b[0;34m\u001b[0m\u001b[0;34m\u001b[0m\u001b[0m\n\u001b[1;32m    466\u001b[0m         \u001b[0;32melif\u001b[0m \u001b[0misinstance\u001b[0m\u001b[0;34m(\u001b[0m\u001b[0mdata\u001b[0m\u001b[0;34m,\u001b[0m \u001b[0mnp\u001b[0m\u001b[0;34m.\u001b[0m\u001b[0mndarray\u001b[0m\u001b[0;34m)\u001b[0m\u001b[0;34m:\u001b[0m\u001b[0;34m\u001b[0m\u001b[0;34m\u001b[0m\u001b[0m\n\u001b[0;32m--> 467\u001b[0;31m             \u001b[0mpreds\u001b[0m\u001b[0;34m,\u001b[0m \u001b[0mnrow\u001b[0m \u001b[0;34m=\u001b[0m \u001b[0mself\u001b[0m\u001b[0;34m.\u001b[0m\u001b[0m__pred_for_np2d\u001b[0m\u001b[0;34m(\u001b[0m\u001b[0mdata\u001b[0m\u001b[0;34m,\u001b[0m \u001b[0mnum_iteration\u001b[0m\u001b[0;34m,\u001b[0m \u001b[0mpredict_type\u001b[0m\u001b[0;34m)\u001b[0m\u001b[0;34m\u001b[0m\u001b[0;34m\u001b[0m\u001b[0m\n\u001b[0m\u001b[1;32m    468\u001b[0m         \u001b[0;32melif\u001b[0m \u001b[0misinstance\u001b[0m\u001b[0;34m(\u001b[0m\u001b[0mdata\u001b[0m\u001b[0;34m,\u001b[0m \u001b[0mlist\u001b[0m\u001b[0;34m)\u001b[0m\u001b[0;34m:\u001b[0m\u001b[0;34m\u001b[0m\u001b[0;34m\u001b[0m\u001b[0m\n\u001b[1;32m    469\u001b[0m             \u001b[0;32mtry\u001b[0m\u001b[0;34m:\u001b[0m\u001b[0;34m\u001b[0m\u001b[0;34m\u001b[0m\u001b[0m\n",
      "\u001b[0;32m~/.local/lib/python3.6/site-packages/lightgbm/basic.py\u001b[0m in \u001b[0;36m__pred_for_np2d\u001b[0;34m(self, mat, num_iteration, predict_type)\u001b[0m\n\u001b[1;32m    554\u001b[0m             \u001b[0;32mreturn\u001b[0m \u001b[0mpreds\u001b[0m\u001b[0;34m,\u001b[0m \u001b[0mnrow\u001b[0m\u001b[0;34m\u001b[0m\u001b[0;34m\u001b[0m\u001b[0m\n\u001b[1;32m    555\u001b[0m         \u001b[0;32melse\u001b[0m\u001b[0;34m:\u001b[0m\u001b[0;34m\u001b[0m\u001b[0;34m\u001b[0m\u001b[0m\n\u001b[0;32m--> 556\u001b[0;31m             \u001b[0;32mreturn\u001b[0m \u001b[0minner_predict\u001b[0m\u001b[0;34m(\u001b[0m\u001b[0mmat\u001b[0m\u001b[0;34m,\u001b[0m \u001b[0mnum_iteration\u001b[0m\u001b[0;34m,\u001b[0m \u001b[0mpredict_type\u001b[0m\u001b[0;34m)\u001b[0m\u001b[0;34m\u001b[0m\u001b[0;34m\u001b[0m\u001b[0m\n\u001b[0m\u001b[1;32m    557\u001b[0m \u001b[0;34m\u001b[0m\u001b[0m\n\u001b[1;32m    558\u001b[0m     \u001b[0;32mdef\u001b[0m \u001b[0m__pred_for_csr\u001b[0m\u001b[0;34m(\u001b[0m\u001b[0mself\u001b[0m\u001b[0;34m,\u001b[0m \u001b[0mcsr\u001b[0m\u001b[0;34m,\u001b[0m \u001b[0mnum_iteration\u001b[0m\u001b[0;34m,\u001b[0m \u001b[0mpredict_type\u001b[0m\u001b[0;34m)\u001b[0m\u001b[0;34m:\u001b[0m\u001b[0;34m\u001b[0m\u001b[0;34m\u001b[0m\u001b[0m\n",
      "\u001b[0;32m~/.local/lib/python3.6/site-packages/lightgbm/basic.py\u001b[0m in \u001b[0;36minner_predict\u001b[0;34m(mat, num_iteration, predict_type, preds)\u001b[0m\n\u001b[1;32m    536\u001b[0m                 \u001b[0mc_str\u001b[0m\u001b[0;34m(\u001b[0m\u001b[0mself\u001b[0m\u001b[0;34m.\u001b[0m\u001b[0mpred_parameter\u001b[0m\u001b[0;34m)\u001b[0m\u001b[0;34m,\u001b[0m\u001b[0;34m\u001b[0m\u001b[0;34m\u001b[0m\u001b[0m\n\u001b[1;32m    537\u001b[0m                 \u001b[0mctypes\u001b[0m\u001b[0;34m.\u001b[0m\u001b[0mbyref\u001b[0m\u001b[0;34m(\u001b[0m\u001b[0mout_num_preds\u001b[0m\u001b[0;34m)\u001b[0m\u001b[0;34m,\u001b[0m\u001b[0;34m\u001b[0m\u001b[0;34m\u001b[0m\u001b[0m\n\u001b[0;32m--> 538\u001b[0;31m                 preds.ctypes.data_as(ctypes.POINTER(ctypes.c_double))))\n\u001b[0m\u001b[1;32m    539\u001b[0m             \u001b[0;32mif\u001b[0m \u001b[0mn_preds\u001b[0m \u001b[0;34m!=\u001b[0m \u001b[0mout_num_preds\u001b[0m\u001b[0;34m.\u001b[0m\u001b[0mvalue\u001b[0m\u001b[0;34m:\u001b[0m\u001b[0;34m\u001b[0m\u001b[0;34m\u001b[0m\u001b[0m\n\u001b[1;32m    540\u001b[0m                 \u001b[0;32mraise\u001b[0m \u001b[0mValueError\u001b[0m\u001b[0;34m(\u001b[0m\u001b[0;34m\"Wrong length for predict results\"\u001b[0m\u001b[0;34m)\u001b[0m\u001b[0;34m\u001b[0m\u001b[0;34m\u001b[0m\u001b[0m\n",
      "\u001b[0;31mKeyboardInterrupt\u001b[0m: "
     ]
    }
   ],
   "source": [
    "LogLGBM = LogRegressionPredictor(X_train, y_train.values, X_test, Folder=folder, params=lgbm_log_params,\n",
    "                                      sk_model=None, n_splits=10, clf_type='lgb')\n",
    "log_lgboof, log_lgbpreds, log_lgbFIs = LogLGBM.fit()\n",
    "LogLGBM.plot_FI(50)\n",
    "LogLGBM.plot_pred_dist()\n",
    "LogLGBM.plot_scatter_oofvspred()"
   ]
  },
  {
   "cell_type": "code",
   "execution_count": 136,
   "metadata": {},
   "outputs": [
    {
     "data": {
      "text/html": [
       "<div>\n",
       "<style scoped>\n",
       "    .dataframe tbody tr th:only-of-type {\n",
       "        vertical-align: middle;\n",
       "    }\n",
       "\n",
       "    .dataframe tbody tr th {\n",
       "        vertical-align: top;\n",
       "    }\n",
       "\n",
       "    .dataframe thead th {\n",
       "        text-align: right;\n",
       "    }\n",
       "</style>\n",
       "<table border=\"1\" class=\"dataframe\">\n",
       "  <thead>\n",
       "    <tr style=\"text-align: right;\">\n",
       "      <th></th>\n",
       "      <th>id</th>\n",
       "      <th>target</th>\n",
       "    </tr>\n",
       "  </thead>\n",
       "  <tbody>\n",
       "    <tr>\n",
       "      <td>0</td>\n",
       "      <td>31471</td>\n",
       "      <td>91953.095541</td>\n",
       "    </tr>\n",
       "    <tr>\n",
       "      <td>1</td>\n",
       "      <td>31472</td>\n",
       "      <td>82887.781648</td>\n",
       "    </tr>\n",
       "    <tr>\n",
       "      <td>2</td>\n",
       "      <td>31473</td>\n",
       "      <td>65771.808551</td>\n",
       "    </tr>\n",
       "    <tr>\n",
       "      <td>3</td>\n",
       "      <td>31474</td>\n",
       "      <td>52870.605180</td>\n",
       "    </tr>\n",
       "    <tr>\n",
       "      <td>4</td>\n",
       "      <td>31475</td>\n",
       "      <td>80493.771793</td>\n",
       "    </tr>\n",
       "  </tbody>\n",
       "</table>\n",
       "</div>"
      ],
      "text/plain": [
       "      id        target\n",
       "0  31471  91953.095541\n",
       "1  31472  82887.781648\n",
       "2  31473  65771.808551\n",
       "3  31474  52870.605180\n",
       "4  31475  80493.771793"
      ]
     },
     "metadata": {},
     "output_type": "display_data"
    },
    {
     "data": {
      "text/html": [
       "<div>\n",
       "<style scoped>\n",
       "    .dataframe tbody tr th:only-of-type {\n",
       "        vertical-align: middle;\n",
       "    }\n",
       "\n",
       "    .dataframe tbody tr th {\n",
       "        vertical-align: top;\n",
       "    }\n",
       "\n",
       "    .dataframe thead th {\n",
       "        text-align: right;\n",
       "    }\n",
       "</style>\n",
       "<table border=\"1\" class=\"dataframe\">\n",
       "  <thead>\n",
       "    <tr style=\"text-align: right;\">\n",
       "      <th></th>\n",
       "      <th>id</th>\n",
       "      <th>target</th>\n",
       "    </tr>\n",
       "  </thead>\n",
       "  <tbody>\n",
       "    <tr>\n",
       "      <td>0</td>\n",
       "      <td>1</td>\n",
       "      <td>80883.563764</td>\n",
       "    </tr>\n",
       "    <tr>\n",
       "      <td>1</td>\n",
       "      <td>2</td>\n",
       "      <td>66355.648045</td>\n",
       "    </tr>\n",
       "    <tr>\n",
       "      <td>2</td>\n",
       "      <td>3</td>\n",
       "      <td>109951.287114</td>\n",
       "    </tr>\n",
       "    <tr>\n",
       "      <td>3</td>\n",
       "      <td>4</td>\n",
       "      <td>158163.625907</td>\n",
       "    </tr>\n",
       "    <tr>\n",
       "      <td>4</td>\n",
       "      <td>5</td>\n",
       "      <td>64341.402361</td>\n",
       "    </tr>\n",
       "  </tbody>\n",
       "</table>\n",
       "</div>"
      ],
      "text/plain": [
       "   id         target\n",
       "0   1   80883.563764\n",
       "1   2   66355.648045\n",
       "2   3  109951.287114\n",
       "3   4  158163.625907\n",
       "4   5   64341.402361"
      ]
     },
     "metadata": {},
     "output_type": "display_data"
    }
   ],
   "source": [
    "save_data(X_train,log_lgboof, log_lgbpreds,rmse=LogLGBM.rmse(),name='log_tika_TE2',save_dir='./stacking')"
   ]
  },
  {
   "cell_type": "code",
   "execution_count": 23,
   "metadata": {},
   "outputs": [
    {
     "name": "stdout",
     "output_type": "stream",
     "text": [
      "Training on fold 1\n",
      "Training until validation scores don't improve for 50 rounds.\n",
      "[5000]\ttraining's l1: 0.0195724\tvalid_1's l1: 0.0543793\n",
      "[10000]\ttraining's l1: 0.00944409\tvalid_1's l1: 0.0514929\n",
      "Early stopping, best iteration is:\n",
      "[12757]\ttraining's l1: 0.00693673\tvalid_1's l1: 0.0508711\n",
      "Training on fold 2\n",
      "Training until validation scores don't improve for 50 rounds.\n",
      "[5000]\ttraining's l1: 0.0196889\tvalid_1's l1: 0.0518391\n",
      "Early stopping, best iteration is:\n",
      "[9793]\ttraining's l1: 0.00976461\tvalid_1's l1: 0.0490924\n",
      "Training on fold 3\n",
      "Training until validation scores don't improve for 50 rounds.\n",
      "[5000]\ttraining's l1: 0.0195213\tvalid_1's l1: 0.0537694\n",
      "[10000]\ttraining's l1: 0.00951098\tvalid_1's l1: 0.0507832\n",
      "[15000]\ttraining's l1: 0.00558235\tvalid_1's l1: 0.0495811\n",
      "[20000]\ttraining's l1: 0.00371427\tvalid_1's l1: 0.0490359\n",
      "[25000]\ttraining's l1: 0.00271198\tvalid_1's l1: 0.0487626\n"
     ]
    },
    {
     "ename": "KeyboardInterrupt",
     "evalue": "",
     "output_type": "error",
     "traceback": [
      "\u001b[0;31m---------------------------------------------------------------------------\u001b[0m",
      "\u001b[0;31mKeyboardInterrupt\u001b[0m                         Traceback (most recent call last)",
      "\u001b[0;32m<ipython-input-23-0c184a6ab603>\u001b[0m in \u001b[0;36m<module>\u001b[0;34m\u001b[0m\n\u001b[1;32m      1\u001b[0m LogLGBM = LogRegressionPredictor(X_train, y_train.values, X_test, Folder=folder, params=lgbm_log_params,\n\u001b[1;32m      2\u001b[0m                                       sk_model=None, n_splits=10, clf_type='lgb')\n\u001b[0;32m----> 3\u001b[0;31m \u001b[0mlog_lgboof\u001b[0m\u001b[0;34m,\u001b[0m \u001b[0mlog_lgbpreds\u001b[0m\u001b[0;34m,\u001b[0m \u001b[0mlog_lgbFIs\u001b[0m \u001b[0;34m=\u001b[0m \u001b[0mLogLGBM\u001b[0m\u001b[0;34m.\u001b[0m\u001b[0mfit\u001b[0m\u001b[0;34m(\u001b[0m\u001b[0;34m)\u001b[0m\u001b[0;34m\u001b[0m\u001b[0;34m\u001b[0m\u001b[0m\n\u001b[0m\u001b[1;32m      4\u001b[0m \u001b[0mLogLGBM\u001b[0m\u001b[0;34m.\u001b[0m\u001b[0mplot_FI\u001b[0m\u001b[0;34m(\u001b[0m\u001b[0;36m50\u001b[0m\u001b[0;34m)\u001b[0m\u001b[0;34m\u001b[0m\u001b[0;34m\u001b[0m\u001b[0m\n\u001b[1;32m      5\u001b[0m \u001b[0mLogLGBM\u001b[0m\u001b[0;34m.\u001b[0m\u001b[0mplot_pred_dist\u001b[0m\u001b[0;34m(\u001b[0m\u001b[0;34m)\u001b[0m\u001b[0;34m\u001b[0m\u001b[0;34m\u001b[0m\u001b[0m\n",
      "\u001b[0;32m~/Desktop/kaggle/team-mynabi/higuchi/script.py\u001b[0m in \u001b[0;36mfit\u001b[0;34m(self)\u001b[0m\n\u001b[1;32m    166\u001b[0m             \u001b[0;32mif\u001b[0m \u001b[0mself\u001b[0m\u001b[0;34m.\u001b[0m\u001b[0maggfunc_dict\u001b[0m \u001b[0;34m!=\u001b[0m \u001b[0;32mNone\u001b[0m\u001b[0;34m:\u001b[0m\u001b[0;34m\u001b[0m\u001b[0;34m\u001b[0m\u001b[0m\n\u001b[1;32m    167\u001b[0m                 \u001b[0mX_train\u001b[0m\u001b[0;34m,\u001b[0m \u001b[0mX_val\u001b[0m \u001b[0;34m=\u001b[0m \u001b[0mself\u001b[0m\u001b[0;34m.\u001b[0m\u001b[0mtarget_encoding\u001b[0m\u001b[0;34m(\u001b[0m\u001b[0mX_train\u001b[0m\u001b[0;34m,\u001b[0m \u001b[0mX_val\u001b[0m\u001b[0;34m,\u001b[0m \u001b[0my_train\u001b[0m\u001b[0;34m)\u001b[0m\u001b[0;34m\u001b[0m\u001b[0;34m\u001b[0m\u001b[0m\n\u001b[0;32m--> 168\u001b[0;31m             \u001b[0mself\u001b[0m\u001b[0;34m.\u001b[0m\u001b[0m_get_cv_model\u001b[0m\u001b[0;34m(\u001b[0m\u001b[0mX_train\u001b[0m\u001b[0;34m,\u001b[0m \u001b[0mX_val\u001b[0m\u001b[0;34m,\u001b[0m \u001b[0my_train\u001b[0m\u001b[0;34m,\u001b[0m \u001b[0my_val\u001b[0m\u001b[0;34m,\u001b[0m \u001b[0mval_idx\u001b[0m\u001b[0;34m)\u001b[0m\u001b[0;34m\u001b[0m\u001b[0;34m\u001b[0m\u001b[0m\n\u001b[0m\u001b[1;32m    169\u001b[0m \u001b[0;34m\u001b[0m\u001b[0m\n\u001b[1;32m    170\u001b[0m         \u001b[0mprint\u001b[0m\u001b[0;34m(\u001b[0m\u001b[0;34m'-'\u001b[0m \u001b[0;34m*\u001b[0m \u001b[0;36m30\u001b[0m\u001b[0;34m)\u001b[0m\u001b[0;34m\u001b[0m\u001b[0;34m\u001b[0m\u001b[0m\n",
      "\u001b[0;32m~/Desktop/kaggle/team-mynabi/higuchi/script.py\u001b[0m in \u001b[0;36m_get_cv_model\u001b[0;34m(self, tr_X, val_X, tr_y, val_y, val_idx)\u001b[0m\n\u001b[1;32m    233\u001b[0m             \u001b[0mclf_val\u001b[0m \u001b[0;34m=\u001b[0m \u001b[0mlgb\u001b[0m\u001b[0;34m.\u001b[0m\u001b[0mDataset\u001b[0m\u001b[0;34m(\u001b[0m\u001b[0mval_X\u001b[0m\u001b[0;34m,\u001b[0m \u001b[0mval_y\u001b[0m\u001b[0;34m,\u001b[0m \u001b[0mreference\u001b[0m\u001b[0;34m=\u001b[0m\u001b[0mlgb\u001b[0m\u001b[0;34m.\u001b[0m\u001b[0mtrain\u001b[0m\u001b[0;34m)\u001b[0m\u001b[0;34m\u001b[0m\u001b[0;34m\u001b[0m\u001b[0m\n\u001b[1;32m    234\u001b[0m             self.model = lgb.train(self.params, clf_train, valid_sets=[\n\u001b[0;32m--> 235\u001b[0;31m                                    clf_train, clf_val], verbose_eval=self.verbose_eval)\n\u001b[0m\u001b[1;32m    236\u001b[0m             \u001b[0mself\u001b[0m\u001b[0;34m.\u001b[0m\u001b[0moof\u001b[0m\u001b[0;34m[\u001b[0m\u001b[0mval_idx\u001b[0m\u001b[0;34m]\u001b[0m \u001b[0;34m=\u001b[0m \u001b[0mself\u001b[0m\u001b[0;34m.\u001b[0m\u001b[0mrevert_func\u001b[0m\u001b[0;34m(\u001b[0m\u001b[0mself\u001b[0m\u001b[0;34m.\u001b[0m\u001b[0mmodel\u001b[0m\u001b[0;34m.\u001b[0m\u001b[0mpredict\u001b[0m\u001b[0;34m(\u001b[0m\u001b[0mval_X\u001b[0m\u001b[0;34m,\u001b[0m \u001b[0mnum_iteration\u001b[0m\u001b[0;34m=\u001b[0m\u001b[0mself\u001b[0m\u001b[0;34m.\u001b[0m\u001b[0mmodel\u001b[0m\u001b[0;34m.\u001b[0m\u001b[0mbest_iteration\u001b[0m\u001b[0;34m)\u001b[0m\u001b[0;34m)\u001b[0m\u001b[0;34m\u001b[0m\u001b[0;34m\u001b[0m\u001b[0m\n\u001b[1;32m    237\u001b[0m             \u001b[0mself\u001b[0m\u001b[0;34m.\u001b[0m\u001b[0mpreds\u001b[0m \u001b[0;34m+=\u001b[0m \u001b[0mself\u001b[0m\u001b[0;34m.\u001b[0m\u001b[0mrevert_func\u001b[0m\u001b[0;34m(\u001b[0m\u001b[0mself\u001b[0m\u001b[0;34m.\u001b[0m\u001b[0mmodel\u001b[0m\u001b[0;34m.\u001b[0m\u001b[0mpredict\u001b[0m\u001b[0;34m(\u001b[0m\u001b[0mself\u001b[0m\u001b[0;34m.\u001b[0m\u001b[0mtest_X\u001b[0m\u001b[0;34m,\u001b[0m \u001b[0mnum_iteration\u001b[0m\u001b[0;34m=\u001b[0m\u001b[0mself\u001b[0m\u001b[0;34m.\u001b[0m\u001b[0mmodel\u001b[0m\u001b[0;34m.\u001b[0m\u001b[0mbest_iteration\u001b[0m\u001b[0;34m)\u001b[0m\u001b[0;34m)\u001b[0m \u001b[0;34m/\u001b[0m \u001b[0mself\u001b[0m\u001b[0;34m.\u001b[0m\u001b[0mkf\u001b[0m\u001b[0;34m.\u001b[0m\u001b[0mn_splits\u001b[0m\u001b[0;34m\u001b[0m\u001b[0;34m\u001b[0m\u001b[0m\n",
      "\u001b[0;32m~/.local/lib/python3.6/site-packages/lightgbm/engine.py\u001b[0m in \u001b[0;36mtrain\u001b[0;34m(params, train_set, num_boost_round, valid_sets, valid_names, fobj, feval, init_model, feature_name, categorical_feature, early_stopping_rounds, evals_result, verbose_eval, learning_rates, keep_training_booster, callbacks)\u001b[0m\n\u001b[1;32m    216\u001b[0m                                     evaluation_result_list=None))\n\u001b[1;32m    217\u001b[0m \u001b[0;34m\u001b[0m\u001b[0m\n\u001b[0;32m--> 218\u001b[0;31m         \u001b[0mbooster\u001b[0m\u001b[0;34m.\u001b[0m\u001b[0mupdate\u001b[0m\u001b[0;34m(\u001b[0m\u001b[0mfobj\u001b[0m\u001b[0;34m=\u001b[0m\u001b[0mfobj\u001b[0m\u001b[0;34m)\u001b[0m\u001b[0;34m\u001b[0m\u001b[0;34m\u001b[0m\u001b[0m\n\u001b[0m\u001b[1;32m    219\u001b[0m \u001b[0;34m\u001b[0m\u001b[0m\n\u001b[1;32m    220\u001b[0m         \u001b[0mevaluation_result_list\u001b[0m \u001b[0;34m=\u001b[0m \u001b[0;34m[\u001b[0m\u001b[0;34m]\u001b[0m\u001b[0;34m\u001b[0m\u001b[0;34m\u001b[0m\u001b[0m\n",
      "\u001b[0;32m~/.local/lib/python3.6/site-packages/lightgbm/basic.py\u001b[0m in \u001b[0;36mupdate\u001b[0;34m(self, train_set, fobj)\u001b[0m\n\u001b[1;32m   1800\u001b[0m             _safe_call(_LIB.LGBM_BoosterUpdateOneIter(\n\u001b[1;32m   1801\u001b[0m                 \u001b[0mself\u001b[0m\u001b[0;34m.\u001b[0m\u001b[0mhandle\u001b[0m\u001b[0;34m,\u001b[0m\u001b[0;34m\u001b[0m\u001b[0;34m\u001b[0m\u001b[0m\n\u001b[0;32m-> 1802\u001b[0;31m                 ctypes.byref(is_finished)))\n\u001b[0m\u001b[1;32m   1803\u001b[0m             \u001b[0mself\u001b[0m\u001b[0;34m.\u001b[0m\u001b[0m__is_predicted_cur_iter\u001b[0m \u001b[0;34m=\u001b[0m \u001b[0;34m[\u001b[0m\u001b[0;32mFalse\u001b[0m \u001b[0;32mfor\u001b[0m \u001b[0m_\u001b[0m \u001b[0;32min\u001b[0m \u001b[0mrange_\u001b[0m\u001b[0;34m(\u001b[0m\u001b[0mself\u001b[0m\u001b[0;34m.\u001b[0m\u001b[0m__num_dataset\u001b[0m\u001b[0;34m)\u001b[0m\u001b[0;34m]\u001b[0m\u001b[0;34m\u001b[0m\u001b[0;34m\u001b[0m\u001b[0m\n\u001b[1;32m   1804\u001b[0m             \u001b[0;32mreturn\u001b[0m \u001b[0mis_finished\u001b[0m\u001b[0;34m.\u001b[0m\u001b[0mvalue\u001b[0m \u001b[0;34m==\u001b[0m \u001b[0;36m1\u001b[0m\u001b[0;34m\u001b[0m\u001b[0;34m\u001b[0m\u001b[0m\n",
      "\u001b[0;31mKeyboardInterrupt\u001b[0m: "
     ]
    }
   ],
   "source": [
    "LogLGBM = LogRegressionPredictor(X_train, y_train.values, X_test, Folder=folder, params=lgbm_log_params,\n",
    "                                      sk_model=None, n_splits=10, clf_type='lgb')\n",
    "log_lgboof, log_lgbpreds, log_lgbFIs = LogLGBM.fit()\n",
    "LogLGBM.plot_FI(50)\n",
    "LogLGBM.plot_pred_dist()\n",
    "LogLGBM.plot_scatter_oofvspred()"
   ]
  },
  {
   "cell_type": "code",
   "execution_count": 50,
   "metadata": {},
   "outputs": [
    {
     "data": {
      "text/html": [
       "<div>\n",
       "<style scoped>\n",
       "    .dataframe tbody tr th:only-of-type {\n",
       "        vertical-align: middle;\n",
       "    }\n",
       "\n",
       "    .dataframe tbody tr th {\n",
       "        vertical-align: top;\n",
       "    }\n",
       "\n",
       "    .dataframe thead th {\n",
       "        text-align: right;\n",
       "    }\n",
       "</style>\n",
       "<table border=\"1\" class=\"dataframe\">\n",
       "  <thead>\n",
       "    <tr style=\"text-align: right;\">\n",
       "      <th></th>\n",
       "      <th>id</th>\n",
       "      <th>target</th>\n",
       "    </tr>\n",
       "  </thead>\n",
       "  <tbody>\n",
       "    <tr>\n",
       "      <td>0</td>\n",
       "      <td>31471</td>\n",
       "      <td>133824.638945</td>\n",
       "    </tr>\n",
       "    <tr>\n",
       "      <td>1</td>\n",
       "      <td>31472</td>\n",
       "      <td>119407.469975</td>\n",
       "    </tr>\n",
       "    <tr>\n",
       "      <td>2</td>\n",
       "      <td>31473</td>\n",
       "      <td>76853.771758</td>\n",
       "    </tr>\n",
       "    <tr>\n",
       "      <td>3</td>\n",
       "      <td>31474</td>\n",
       "      <td>60324.643624</td>\n",
       "    </tr>\n",
       "    <tr>\n",
       "      <td>4</td>\n",
       "      <td>31475</td>\n",
       "      <td>93411.859263</td>\n",
       "    </tr>\n",
       "  </tbody>\n",
       "</table>\n",
       "</div>"
      ],
      "text/plain": [
       "      id         target\n",
       "0  31471  133824.638945\n",
       "1  31472  119407.469975\n",
       "2  31473   76853.771758\n",
       "3  31474   60324.643624\n",
       "4  31475   93411.859263"
      ]
     },
     "metadata": {},
     "output_type": "display_data"
    },
    {
     "data": {
      "text/html": [
       "<div>\n",
       "<style scoped>\n",
       "    .dataframe tbody tr th:only-of-type {\n",
       "        vertical-align: middle;\n",
       "    }\n",
       "\n",
       "    .dataframe tbody tr th {\n",
       "        vertical-align: top;\n",
       "    }\n",
       "\n",
       "    .dataframe thead th {\n",
       "        text-align: right;\n",
       "    }\n",
       "</style>\n",
       "<table border=\"1\" class=\"dataframe\">\n",
       "  <thead>\n",
       "    <tr style=\"text-align: right;\">\n",
       "      <th></th>\n",
       "      <th>id</th>\n",
       "      <th>target</th>\n",
       "    </tr>\n",
       "  </thead>\n",
       "  <tbody>\n",
       "    <tr>\n",
       "      <td>0</td>\n",
       "      <td>1</td>\n",
       "      <td>82042.775767</td>\n",
       "    </tr>\n",
       "    <tr>\n",
       "      <td>1</td>\n",
       "      <td>2</td>\n",
       "      <td>64746.386218</td>\n",
       "    </tr>\n",
       "    <tr>\n",
       "      <td>2</td>\n",
       "      <td>3</td>\n",
       "      <td>109875.632835</td>\n",
       "    </tr>\n",
       "    <tr>\n",
       "      <td>3</td>\n",
       "      <td>4</td>\n",
       "      <td>184227.309161</td>\n",
       "    </tr>\n",
       "    <tr>\n",
       "      <td>4</td>\n",
       "      <td>5</td>\n",
       "      <td>64397.159550</td>\n",
       "    </tr>\n",
       "  </tbody>\n",
       "</table>\n",
       "</div>"
      ],
      "text/plain": [
       "   id         target\n",
       "0   1   82042.775767\n",
       "1   2   64746.386218\n",
       "2   3  109875.632835\n",
       "3   4  184227.309161\n",
       "4   5   64397.159550"
      ]
     },
     "metadata": {},
     "output_type": "display_data"
    }
   ],
   "source": [
    "save_data(X_train,log_lgboof, log_lgbpreds,rmse=LogLGBM.rmse(),name='log_km_wa_locmodified',save_dir='./stacking')"
   ]
  },
  {
   "cell_type": "code",
   "execution_count": 58,
   "metadata": {},
   "outputs": [
    {
     "data": {
      "text/plain": [
       "array([133824.63894527, 119407.46997463,  76853.7717577 , ...,\n",
       "       173935.06971244, 279672.83322726,  80897.27091804])"
      ]
     },
     "execution_count": 58,
     "metadata": {},
     "output_type": "execute_result"
    }
   ],
   "source": [
    "log_lgbpreds"
   ]
  },
  {
   "cell_type": "code",
   "execution_count": 59,
   "metadata": {},
   "outputs": [
    {
     "data": {
      "text/plain": [
       "array([ 82042.77576689,  64746.3862177 , 109875.63283494, ...,\n",
       "       124632.83604373,  94636.32579863,  78596.88861252])"
      ]
     },
     "execution_count": 59,
     "metadata": {},
     "output_type": "execute_result"
    }
   ],
   "source": [
    "log_lgboof"
   ]
  },
  {
   "cell_type": "code",
   "execution_count": null,
   "metadata": {},
   "outputs": [],
   "source": []
  }
 ],
 "metadata": {
  "kernelspec": {
   "display_name": "Python 3",
   "language": "python",
   "name": "python3"
  },
  "language_info": {
   "codemirror_mode": {
    "name": "ipython",
    "version": 3
   },
   "file_extension": ".py",
   "mimetype": "text/x-python",
   "name": "python",
   "nbconvert_exporter": "python",
   "pygments_lexer": "ipython3",
   "version": "3.6.8"
  }
 },
 "nbformat": 4,
 "nbformat_minor": 4
}
