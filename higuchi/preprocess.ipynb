{
 "cells": [
  {
   "cell_type": "markdown",
   "metadata": {},
   "source": []
  },
  {
   "cell_type": "code",
   "execution_count": 102,
   "metadata": {},
   "outputs": [],
   "source": [
    "import mojimoji\n",
    "import os\n",
    "import pandas as pd\n",
    "import numpy as np\n",
    "import matplotlib.pyplot as plt\n",
    "import seaborn as sns\n",
    "import os\n",
    "import re\n",
    "pd.set_option('display.max_columns',100)\n",
    "# import japanize_matplotlib"
   ]
  },
  {
   "cell_type": "code",
   "execution_count": 105,
   "metadata": {},
   "outputs": [
    {
     "name": "stderr",
     "output_type": "stream",
     "text": [
      "/home/higuchi/.local/lib/python3.6/site-packages/ipykernel_launcher.py:6: FutureWarning: Sorting because non-concatenation axis is not aligned. A future version\n",
      "of pandas will change to not sort by default.\n",
      "\n",
      "To accept the future behavior, pass 'sort=False'.\n",
      "\n",
      "To retain the current behavior and silence the warning, pass 'sort=True'.\n",
      "\n",
      "  \n"
     ]
    }
   ],
   "source": [
    "train_path='./data/train.csv'  \n",
    "test_path='./data/train.csv'\n",
    "train = pd.read_csv(train_path)\n",
    "test = pd.read_csv(test_path)\n",
    "train_y = train['賃料']\n",
    "data = pd.concat([train.drop(columns='賃料'), test], axis=0)"
   ]
  },
  {
   "cell_type": "markdown",
   "metadata": {},
   "source": [
    "## Preprocessing"
   ]
  },
  {
   "cell_type": "markdown",
   "metadata": {},
   "source": [
    "### 所在地の正規化"
   ]
  },
  {
   "cell_type": "code",
   "execution_count": 10,
   "metadata": {},
   "outputs": [],
   "source": [
    "def preprocess_location(data,in_col='所在地',out_cols=['所在丁','地域']):\n",
    "    def preprocess(x):\n",
    "        x = mojimoji.zen_to_han(x, kana=False)\n",
    "        x = re.sub('[()（）()/(/)/（/）/(/)]', '', x)\n",
    "        #5番目8丁目3番→5-8-3みたいにする\n",
    "        x = re.sub('丁目|番$|ー', '-', x)\n",
    "        x = re.sub('-$|号|未定|予定|東京都', '', x)\n",
    "        #ゴミの削除\n",
    "        x= re.sub(re.compile(\"[!-/:-@[-`{-~]\"), '', x)\n",
    "        #空白文字の削除\n",
    "        x=''.join(x.split())\n",
    "        return x\n",
    "    \n",
    "    #数字以降全部消去\n",
    "    def delete_num(x):\n",
    "        x= re.sub('\\d.*','',x)\n",
    "        return x\n",
    "    #5-6-4 ->5にする\n",
    "    def delete_second_num(x):\n",
    "        x = re.sub('(?<=-)(.*)', '', x)\n",
    "        x = re.sub('-', '', x)\n",
    "        return x\n",
    "\n",
    "    #全部残す、丁まで残す、丁以降全部消す\n",
    "    data[in_col]=data[in_col].apply(preprocess)\n",
    "    data[out_cols[0]] = data[in_col].apply(delete_second_num)\n",
    "    data[out_cols[1]] = data[in_col].apply(delete_num)\n",
    "    return data\n",
    "\n",
    "\n"
   ]
  },
  {
   "cell_type": "markdown",
   "metadata": {},
   "source": [
    "### 築年数→築年数と築ヶ月を生成"
   ]
  },
  {
   "cell_type": "code",
   "execution_count": 1,
   "metadata": {},
   "outputs": [],
   "source": [
    "def preprocess_build_age(data,in_col='築年数',out_cols=['築年数','築ヶ月数']):\n",
    "    data2=data.copy()\n",
    "    #年で分割、dfとして一時的に保管\n",
    "    tmp_df = data[in_col].str.split('年', expand=True)\n",
    "    tmp_df.colmns=['year','month']\n",
    "    #ヶ月以降の文字列を除去\n",
    "    tmp_df['month'] = tmp_df['month'].str.split('ヶ月', expand=True)[0]\n",
    "    #新築は0年目とする\n",
    "    tmp_df.loc[tmp_df['year'] == '新築', 0] = 0\n",
    "    tmp_df=tmp_df.fillna(-1).astype(int)\n",
    "    #欠損値を平均で埋めて整数にする\n",
    "    tmp_df=tmp_df.replace({-1:np.nan}).fillna(tmp_df.mean()).astype(int)\n",
    "    # tmp_df = tmp_df.fillna(tmp_df.median())\n",
    "    tmp_df['month2'] = tmp_df['year'] * 12 + tmp_df['month']\n",
    "    data2[out_cols[0]] = tmp_df['year']\n",
    "    data2[out_cols[1]] = tmp_df['month2']\n",
    "    return data2\n",
    "\n"
   ]
  },
  {
   "cell_type": "markdown",
   "metadata": {},
   "source": [
    "### 所在階\n",
    "所在階→地下の人は地下列に入力"
   ]
  },
  {
   "cell_type": "code",
   "execution_count": 40,
   "metadata": {},
   "outputs": [],
   "source": [
    "def preprocess_floor(data,in_col='所在階',out_cols=['階', '階建て', '地下']):\n",
    "    data2=data.copy()\n",
    "    tmp_df = data2[in_col].str.split('／', expand=True)\n",
    "    # 階がない奴は階→階建てに変換\n",
    "    tmp_df.loc[tmp_df[1].isnull(), 1] = tmp_df.loc[tmp_df[1].isnull(), 0]\n",
    "    tmp_df.loc[tmp_df[1].isnull(), 0] = np.nan\n",
    "\n",
    "    # (地下ほげ階)みたいな表現を削除\n",
    "    tmp_df[1] = tmp_df[1].str.split('（', expand=True)[0].str.split('階', expand=True)[0]\n",
    "    tmp_df[0] = tmp_df[0].str.split('（', expand=True)[0].str.split('階', expand=True)[0]\n",
    "\n",
    "    # 地下かどうか判定\n",
    "    tmp_df['is_under'] = 0\n",
    "    tmp_df.loc[tmp_df[0] == -1, 0] = '-1'\n",
    "    tmp_df = tmp_df.fillna('-1')\n",
    "\n",
    "    tmp_df.loc[tmp_df[0].str.contains('地下'), 'is_under'] = 1\n",
    "    tmp_df[0] = tmp_df[0].str.strip('地下')\n",
    "    tmp_df.columns = ['階', '階建て', '地下']\n",
    "    data2 = pd.concat([data2, tmp_df], axis=1)\n",
    "    return data2\n"
   ]
  },
  {
   "cell_type": "markdown",
   "metadata": {},
   "source": [
    "### タブ区切りデータ\n",
    "バストイレ、キッチン、放送通信、室内設備  \n",
    "タブで区切る。要素数も追加する"
   ]
  },
  {
   "cell_type": "code",
   "execution_count": 79,
   "metadata": {},
   "outputs": [],
   "source": [
    "def preprocess_tab_data(data,in_col='バス・トイレ',out_cols=['バス・トイレ','バス・トイレ数']):\n",
    "    data2=data.copy()\n",
    "\n",
    "    zen2han=lambda x :mojimoji.zen_to_han(x, kana=False)\n",
    "    #リスト内の空白要素を削除\n",
    "    list_strip =lambda list_:[x for x in list_ if x]\n",
    "    #欠損値埋め→半角変換→スラッシュ削除\n",
    "    data2[in_col] = data2[in_col].fillna('None').apply(zen2han).str.replace('/', '')\n",
    "    data2[out_cols[0]] = data2[in_col].str.split('\\t').apply(list_strip)\n",
    "    data2[out_cols[1]] = data2[in_col].apply(lambda x: len(x))\n",
    "    return data2\n"
   ]
  },
  {
   "cell_type": "markdown",
   "metadata": {},
   "source": [
    "### 面積"
   ]
  },
  {
   "cell_type": "code",
   "execution_count": 64,
   "metadata": {},
   "outputs": [],
   "source": [
    "def preprocess_area(data,in_col='面積',out_cols=['面積']):\n",
    "    data2=data.copy()\n",
    "    data2[in_col] = data2[in_col].str.split('m2', expand=True)[0]\n",
    "    data2[in_col] = data2[in_col].astype(float)\n",
    "    return data2"
   ]
  },
  {
   "cell_type": "markdown",
   "metadata": {},
   "source": [
    "### 間取り\n",
    "普通にラベルエンコーディングでもいいかも"
   ]
  },
  {
   "cell_type": "code",
   "execution_count": 66,
   "metadata": {},
   "outputs": [],
   "source": [
    "def preprocess_floor_type(data,in_col='間取り',out_cols=['L', 'R', 'D', 'K', 'S','LDK','DK','部屋数']):\n",
    "    data2=data.copy()\n",
    "    for alphabet in out_cols[:-1]:\n",
    "        data2[alphabet]=0\n",
    "        data2.loc[data2[in_col].str.contains(alphabet), alphabet] = 1\n",
    "    data2[out_cols[-1]] = data2[in_col].apply(lambda x: re.sub(\"\\\\D\", \"\", x))\n",
    "    return data2"
   ]
  },
  {
   "cell_type": "markdown",
   "metadata": {},
   "source": [
    "### アクセス"
   ]
  },
  {
   "cell_type": "code",
   "execution_count": 70,
   "metadata": {},
   "outputs": [],
   "source": [
    "def preprocess_access(data,in_col='アクセス',out_cols=['線名','駅名']):\n",
    "    data2=data.copy()\n",
    "    def separate_all(x):\n",
    "        list_ = re.split('\\t|\\u3000|・|：', x)\n",
    "        #カッコとカッコ内の言葉を除去\n",
    "        list_ = [re.sub('\\(.*?\\)|\\（.*?\\）', '', x)for x in list_]\n",
    "        list_ = [x for x in list_ if x]\n",
    "        return list_\n",
    "\n",
    "    def extract_rails(List, word='線'):\n",
    "        return [x.split(word)[0] + word for x in List if re.search(word, x)]\n",
    "\n",
    "    def extract_stations(List, word='駅'):\n",
    "        List = [x.split(word)[0] + word for x in List if re.search(word, x)]\n",
    "        New_List = []\n",
    "        for x in List:\n",
    "            if re.search('線', x):\n",
    "                x = x.split('線')[1]\n",
    "            if re.search('(＼|バス)', x):\n",
    "                x = re.split('(＼|バス)', x)[1]\n",
    "            New_List.append(x)\n",
    "        return New_List\n",
    "\n",
    "    data2[in_col] = data2[in_col].apply(separate_all)\n",
    "    data2[out_cols[0]] = data2[in_col].apply(extract_rails, word='線')\n",
    "    data2[out_cols[1]] = data2[in_col].apply(extract_stations, word='駅')\n",
    "    return data2"
   ]
  },
  {
   "cell_type": "markdown",
   "metadata": {},
   "source": [
    "### 周辺環境"
   ]
  },
  {
   "cell_type": "code",
   "execution_count": 91,
   "metadata": {},
   "outputs": [],
   "source": [
    "def preprocess_spot(data,in_col='周辺環境',out_cols=['小学校', '大学', '公園', '飲食店', 'スーパー', 'ドラッグストア', '郵便局', '病院', '幼稚園・保育園', '銀行','コンビニ']):\n",
    "    data2=data.copy()\n",
    "    data2[in_col]=data2[in_col].fillna('None')\n",
    "    for spot in out_cols:\n",
    "        data2[spot] = data2[in_col].str.contains(spot) * 1\n",
    "    return data2"
   ]
  },
  {
   "cell_type": "markdown",
   "metadata": {},
   "source": [
    "### 駐車場"
   ]
  },
  {
   "cell_type": "code",
   "execution_count": 92,
   "metadata": {},
   "outputs": [],
   "source": [
    "def preprocess_parking(data,in_col='駐車場',out_cols=['駐輪場\\t空有', '駐車場\\t空有', 'バイク置き場\\t空有', '駐車場\\t近隣']):\n",
    "    data2=data.copy()\n",
    "    data2[in_col]=data2[in_col].fillna('None')\n",
    "    for spot in out_cols:\n",
    "        data2[''.join(spot.split('\\t'))] = data2[in_col].str.contains(spot) * 1\n",
    "    return data2"
   ]
  },
  {
   "cell_type": "markdown",
   "metadata": {},
   "source": [
    "### 契約期間"
   ]
  },
  {
   "cell_type": "code",
   "execution_count": 93,
   "metadata": {},
   "outputs": [],
   "source": [
    "def preprocess_contract_year(data,in_col='契約期間',out_cols=['契約期間']):\n",
    "    data2=data.copy()\n",
    "    data2[in_col] = data2[in_col].str.split('\\t', expand=True)[0].str.split('年', expand=True)[0].fillna('0')\n",
    "    def pp_contract_year(x):\n",
    "        try:\n",
    "            x = int(x)\n",
    "            if x > 2000:\n",
    "                return x - 2019\n",
    "            return x\n",
    "        except:\n",
    "            return 0\n",
    "\n",
    "    data2[in_col] = data2[in_col].apply(pp_contract_year)\n",
    "    return data2"
   ]
  },
  {
   "cell_type": "code",
   "execution_count": 110,
   "metadata": {},
   "outputs": [],
   "source": [
    "\n",
    "data2=data.copy()\n",
    "data2=preprocess_build_age(data2)\n",
    "data2=regax_location(data2)\n",
    "data2=preprocess_floor(data2)\n",
    "data2=preprocess_tab_data(data2,'バス・トイレ',['バス・トイレ','バス・トイレ数'])\n",
    "data2=preprocess_tab_data(data2,'キッチン',['キッチン','キッチン数'])\n",
    "data2=preprocess_tab_data(data2,'放送・通信',['放送・通信','放送・通信数'])\n",
    "data2=preprocess_tab_data(data2,'室内設備',['室内設備','室内設備数'])\n",
    "data2=preprocess_floor_type(data2)\n",
    "data2=preprocess_area(data2)\n",
    "data2=preprocess_access(data2)\n",
    "data2=preprocess_spot(data2)\n",
    "data2=preprocess_parking(data2)\n",
    "data2=preprocess_contract_year(data2)\n",
    "\n"
   ]
  },
  {
   "cell_type": "code",
   "execution_count": null,
   "metadata": {},
   "outputs": [],
   "source": [
    "data2.drop(columns=['アクセス','キッチン','バス・トイレ',"
   ]
  },
  {
   "cell_type": "code",
   "execution_count": 111,
   "metadata": {},
   "outputs": [
    {
     "data": {
      "text/html": [
       "<div>\n",
       "<style scoped>\n",
       "    .dataframe tbody tr th:only-of-type {\n",
       "        vertical-align: middle;\n",
       "    }\n",
       "\n",
       "    .dataframe tbody tr th {\n",
       "        vertical-align: top;\n",
       "    }\n",
       "\n",
       "    .dataframe thead th {\n",
       "        text-align: right;\n",
       "    }\n",
       "</style>\n",
       "<table border=\"1\" class=\"dataframe\">\n",
       "  <thead>\n",
       "    <tr style=\"text-align: right;\">\n",
       "      <th></th>\n",
       "      <th>id</th>\n",
       "      <th>アクセス</th>\n",
       "      <th>キッチン</th>\n",
       "      <th>バス・トイレ</th>\n",
       "      <th>周辺環境</th>\n",
       "      <th>契約期間</th>\n",
       "      <th>室内設備</th>\n",
       "      <th>建物構造</th>\n",
       "      <th>所在地</th>\n",
       "      <th>所在階</th>\n",
       "      <th>放送・通信</th>\n",
       "      <th>方角</th>\n",
       "      <th>築年数</th>\n",
       "      <th>賃料</th>\n",
       "      <th>間取り</th>\n",
       "      <th>面積</th>\n",
       "      <th>駐車場</th>\n",
       "      <th>築年</th>\n",
       "      <th>築ヶ月数</th>\n",
       "      <th>所在丁</th>\n",
       "      <th>地域</th>\n",
       "      <th>階</th>\n",
       "      <th>階建て</th>\n",
       "      <th>地下</th>\n",
       "      <th>バス・トイレ数</th>\n",
       "      <th>キッチン数</th>\n",
       "      <th>放送・通信数</th>\n",
       "      <th>室内設備数</th>\n",
       "      <th>L</th>\n",
       "      <th>R</th>\n",
       "      <th>D</th>\n",
       "      <th>K</th>\n",
       "      <th>S</th>\n",
       "      <th>LDK</th>\n",
       "      <th>DK</th>\n",
       "      <th>部屋数</th>\n",
       "      <th>線名</th>\n",
       "      <th>駅名</th>\n",
       "      <th>小学校</th>\n",
       "      <th>大学</th>\n",
       "      <th>公園</th>\n",
       "      <th>飲食店</th>\n",
       "      <th>スーパー</th>\n",
       "      <th>ドラッグストア</th>\n",
       "      <th>郵便局</th>\n",
       "      <th>病院</th>\n",
       "      <th>幼稚園・保育園</th>\n",
       "      <th>銀行</th>\n",
       "      <th>コンビニ</th>\n",
       "      <th>駐輪場空有</th>\n",
       "      <th>駐車場空有</th>\n",
       "      <th>バイク置き場空有</th>\n",
       "      <th>駐車場近隣</th>\n",
       "    </tr>\n",
       "  </thead>\n",
       "  <tbody>\n",
       "    <tr>\n",
       "      <td>0</td>\n",
       "      <td>1</td>\n",
       "      <td>[都営三田線, 西巣鴨駅, 徒歩4分, 埼京線, 板橋駅, 徒歩14分, 都電荒川線, 西ケ...</td>\n",
       "      <td>[ガスコンロ, コンロ2口, システムキッチン, 給湯]</td>\n",
       "      <td>[専用バス, 専用トイレ, バス・トイレ別, シャワー, 浴室乾燥機, 温水洗浄便座]</td>\n",
       "      <td>【小学校】 495m\\t【大学】 461m\\t【小学校】 962m\\t【公園】 1103m\\...</td>\n",
       "      <td>2</td>\n",
       "      <td>[エアコン付, シューズボックス, バルコニー, フローリング, 室内洗濯機置場, 敷地内ご...</td>\n",
       "      <td>RC（鉄筋コンクリート）</td>\n",
       "      <td>北区滝野川3</td>\n",
       "      <td>1階／12階建</td>\n",
       "      <td>[インターネット対応, CATV, CSアンテナ, BSアンテナ]</td>\n",
       "      <td>南東</td>\n",
       "      <td>9年9ヶ月</td>\n",
       "      <td>NaN</td>\n",
       "      <td>1K</td>\n",
       "      <td>20.01</td>\n",
       "      <td>駐輪場\\t空有</td>\n",
       "      <td>9</td>\n",
       "      <td>117</td>\n",
       "      <td>北区滝野川3</td>\n",
       "      <td>北区滝野川</td>\n",
       "      <td>1</td>\n",
       "      <td>12</td>\n",
       "      <td>0</td>\n",
       "      <td>6</td>\n",
       "      <td>4</td>\n",
       "      <td>4</td>\n",
       "      <td>10</td>\n",
       "      <td>0</td>\n",
       "      <td>0</td>\n",
       "      <td>0</td>\n",
       "      <td>1</td>\n",
       "      <td>0</td>\n",
       "      <td>0</td>\n",
       "      <td>0</td>\n",
       "      <td>1</td>\n",
       "      <td>[都営三田線, 埼京線, 都電荒川線]</td>\n",
       "      <td>[西巣鴨駅, 板橋駅, 西ケ原四丁目駅]</td>\n",
       "      <td>1</td>\n",
       "      <td>1</td>\n",
       "      <td>1</td>\n",
       "      <td>1</td>\n",
       "      <td>1</td>\n",
       "      <td>1</td>\n",
       "      <td>1</td>\n",
       "      <td>0</td>\n",
       "      <td>0</td>\n",
       "      <td>0</td>\n",
       "      <td>1</td>\n",
       "      <td>1</td>\n",
       "      <td>0</td>\n",
       "      <td>0</td>\n",
       "      <td>0</td>\n",
       "    </tr>\n",
       "  </tbody>\n",
       "</table>\n",
       "</div>"
      ],
      "text/plain": [
       "   id                                               アクセス  \\\n",
       "0   1  [都営三田線, 西巣鴨駅, 徒歩4分, 埼京線, 板橋駅, 徒歩14分, 都電荒川線, 西ケ...   \n",
       "\n",
       "                           キッチン                                       バス・トイレ  \\\n",
       "0  [ガスコンロ, コンロ2口, システムキッチン, 給湯]  [専用バス, 専用トイレ, バス・トイレ別, シャワー, 浴室乾燥機, 温水洗浄便座]   \n",
       "\n",
       "                                                周辺環境  契約期間  \\\n",
       "0  【小学校】 495m\\t【大学】 461m\\t【小学校】 962m\\t【公園】 1103m\\...     2   \n",
       "\n",
       "                                                室内設備          建物構造     所在地  \\\n",
       "0  [エアコン付, シューズボックス, バルコニー, フローリング, 室内洗濯機置場, 敷地内ご...  RC（鉄筋コンクリート）  北区滝野川3   \n",
       "\n",
       "       所在階                              放送・通信  方角    築年数  賃料 間取り     面積  \\\n",
       "0  1階／12階建  [インターネット対応, CATV, CSアンテナ, BSアンテナ]  南東  9年9ヶ月 NaN  1K  20.01   \n",
       "\n",
       "       駐車場  築年  築ヶ月数     所在丁     地域  階 階建て  地下  バス・トイレ数  キッチン数  放送・通信数  室内設備数  \\\n",
       "0  駐輪場\\t空有   9   117  北区滝野川3  北区滝野川  1  12   0        6      4       4     10   \n",
       "\n",
       "   L  R  D  K  S  LDK  DK 部屋数                   線名                    駅名  小学校  \\\n",
       "0  0  0  0  1  0    0   0   1  [都営三田線, 埼京線, 都電荒川線]  [西巣鴨駅, 板橋駅, 西ケ原四丁目駅]    1   \n",
       "\n",
       "   大学  公園  飲食店  スーパー  ドラッグストア  郵便局  病院  幼稚園・保育園  銀行  コンビニ  駐輪場空有  駐車場空有  \\\n",
       "0   1   1    1     1        1    1   0        0   0     1      1      0   \n",
       "\n",
       "   バイク置き場空有  駐車場近隣  \n",
       "0         0      0  "
      ]
     },
     "execution_count": 111,
     "metadata": {},
     "output_type": "execute_result"
    }
   ],
   "source": [
    "data2.head(1)"
   ]
  },
  {
   "cell_type": "code",
   "execution_count": null,
   "metadata": {},
   "outputs": [],
   "source": []
  }
 ],
 "metadata": {
  "file_extension": ".py",
  "kernelspec": {
   "display_name": "Python 3",
   "language": "python",
   "name": "python3"
  },
  "language_info": {
   "codemirror_mode": {
    "name": "ipython",
    "version": 3
   },
   "file_extension": ".py",
   "mimetype": "text/x-python",
   "name": "python",
   "nbconvert_exporter": "python",
   "pygments_lexer": "ipython3",
   "version": "3.6.5"
  },
  "mimetype": "text/x-python",
  "name": "python",
  "npconvert_exporter": "python",
  "pygments_lexer": "ipython3",
  "version": 3
 },
 "nbformat": 4,
 "nbformat_minor": 2
}
